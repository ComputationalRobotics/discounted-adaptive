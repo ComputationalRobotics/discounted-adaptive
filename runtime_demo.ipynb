{
 "cells": [
  {
   "cell_type": "code",
   "execution_count": 17,
   "metadata": {},
   "outputs": [],
   "source": [
    "#\n",
    "# Copyright (c) 2023 salesforce.com, inc.\n",
    "# All rights reserved.\n",
    "# SPDX-License-Identifier: Apache-2.0\n",
    "# For full license text, see the LICENSE file in the repo root or https://opensource.org/licenses/Apache-2.0\n",
    "#\n",
    "\"\"\"\n",
    "File for running all computer vision experiments.\n",
    "\"\"\"\n",
    "import argparse\n",
    "from collections import defaultdict\n",
    "import math\n",
    "import os\n",
    "from re import sub\n",
    "\n",
    "import matplotlib.pyplot as plt\n",
    "import numpy as np\n",
    "import pandas as pd\n",
    "from scipy.ndimage import gaussian_filter1d\n",
    "import torch\n",
    "import torch.distributed as dist\n",
    "import torch.nn as nn\n",
    "import torch.nn.functional as F\n",
    "from torch.optim import Adam, LBFGS, SGD\n",
    "import tqdm\n",
    "\n",
    "# Our new algorithm\n",
    "from online_conformal.magnitude_learner import MagnitudeLearner, MagnitudeLearnerV2\n",
    "from online_conformal.mag_learner_undiscounted import MagLearnUndiscounted\n",
    "from online_conformal.ogd_simple import SimpleOGD\n",
    "\n",
    "# From previous work\n",
    "from online_conformal.saocp import SAOCP\n",
    "from online_conformal.faci import FACI, FACI_S\n",
    "from online_conformal.nex_conformal import NExConformal\n",
    "from online_conformal.ogd import ScaleFreeOGD\n",
    "from online_conformal.split_conformal import SplitConformal\n",
    "from online_conformal.utils import pinball_loss\n",
    "from cv_utils import create_model, data_loader\n",
    "from cv_utils import ImageNet, TinyImageNet, CIFAR10, CIFAR100, ImageNetC, TinyImageNetC, CIFAR10C, CIFAR100C\n",
    "\n",
    "import time\n",
    "\n",
    "from vision import *"
   ]
  },
  {
   "cell_type": "code",
   "execution_count": 18,
   "metadata": {},
   "outputs": [],
   "source": [
    "__file__ = \"vision.ipynb\""
   ]
  },
  {
   "cell_type": "code",
   "execution_count": 19,
   "metadata": {},
   "outputs": [
    {
     "name": "stdout",
     "output_type": "stream",
     "text": [
      "Train the model, save its logits on all the corrupted test datasets, and do temperature scaling\n",
      "Getting temp file...\n",
      "Done\n",
      "Load the saved logits\n"
     ]
    },
    {
     "name": "stdout",
     "output_type": "stream",
     "text": [
      "Initialize conformal prediction methods, along with accumulators for results\n",
      "Current method:  SimpleOGD\n"
     ]
    },
    {
     "name": "stderr",
     "output_type": "stream",
     "text": [
      "100%|██████████| 7050/7050 [00:01<00:00, 4403.13it/s]\n",
      "100%|██████████| 7050/7050 [00:01<00:00, 4064.49it/s]\n",
      "100%|██████████| 7050/7050 [00:01<00:00, 4088.26it/s]\n",
      "100%|██████████| 7050/7050 [00:01<00:00, 4238.50it/s]\n",
      "100%|██████████| 7050/7050 [00:01<00:00, 4399.64it/s]\n",
      "100%|██████████| 7050/7050 [00:01<00:00, 4456.39it/s]\n",
      "100%|██████████| 7050/7050 [00:01<00:00, 4249.87it/s]\n",
      "100%|██████████| 7050/7050 [00:01<00:00, 4020.52it/s]\n",
      "100%|██████████| 7050/7050 [00:01<00:00, 4121.32it/s]\n",
      "100%|██████████| 7050/7050 [00:01<00:00, 4305.31it/s]\n"
     ]
    },
    {
     "name": "stdout",
     "output_type": "stream",
     "text": [
      "SimpleOGD      : Cov: 0.899, Avg Width: 125.0, Avg Miscov: 0.018, Avg Regret: 0.0013, Avg. Runtime (n=10): 1.000000, Std. Runtime (n=10): 0.034854, LCEk: 0.11,\n",
      "Current method:  MagnitudeLearnerV2\n"
     ]
    },
    {
     "name": "stderr",
     "output_type": "stream",
     "text": [
      "100%|██████████| 7050/7050 [00:01<00:00, 4292.18it/s]\n",
      "100%|██████████| 7050/7050 [00:01<00:00, 4323.20it/s]\n",
      "100%|██████████| 7050/7050 [00:01<00:00, 3964.38it/s]\n",
      "100%|██████████| 7050/7050 [00:01<00:00, 3820.18it/s]\n",
      "100%|██████████| 7050/7050 [00:01<00:00, 4229.92it/s]\n",
      "100%|██████████| 7050/7050 [00:01<00:00, 4262.42it/s]\n",
      "100%|██████████| 7050/7050 [00:01<00:00, 4124.75it/s]\n",
      "100%|██████████| 7050/7050 [00:01<00:00, 4241.30it/s]\n",
      "100%|██████████| 7050/7050 [00:01<00:00, 4260.10it/s]\n",
      "100%|██████████| 7050/7050 [00:01<00:00, 4135.90it/s]\n"
     ]
    },
    {
     "name": "stdout",
     "output_type": "stream",
     "text": [
      "MagnitudeLearnerV2: Cov: 0.888, Avg Width: 122.1, Avg Miscov: 0.018, Avg Regret: 0.0034, Avg. Runtime (n=10): 1.016792, Std. Runtime (n=10): 0.038785, LCEk: 0.07,\n",
      "Current method:  SplitConformal\n"
     ]
    },
    {
     "name": "stderr",
     "output_type": "stream",
     "text": [
      "100%|██████████| 7050/7050 [00:02<00:00, 2493.43it/s]\n",
      "100%|██████████| 7050/7050 [00:02<00:00, 2688.52it/s]\n",
      "100%|██████████| 7050/7050 [00:02<00:00, 2701.89it/s]\n",
      "100%|██████████| 7050/7050 [00:02<00:00, 2721.31it/s]\n",
      "100%|██████████| 7050/7050 [00:02<00:00, 2745.08it/s]\n",
      "100%|██████████| 7050/7050 [00:02<00:00, 2756.88it/s]\n",
      "100%|██████████| 7050/7050 [00:02<00:00, 2725.19it/s]\n",
      "100%|██████████| 7050/7050 [00:02<00:00, 2733.57it/s]\n",
      "100%|██████████| 7050/7050 [00:02<00:00, 2749.21it/s]\n",
      "100%|██████████| 7050/7050 [00:02<00:00, 2699.94it/s]\n"
     ]
    },
    {
     "name": "stdout",
     "output_type": "stream",
     "text": [
      "SplitConformal : Cov: 0.843, Avg Width: 129.5, Avg Miscov: 0.114, Avg Regret: 0.0059, Avg. Runtime (n=10): 1.566431, Std. Runtime (n=10): 0.044899, LCEk: 0.47,\n",
      "Current method:  NExConformal\n"
     ]
    },
    {
     "name": "stderr",
     "output_type": "stream",
     "text": [
      "100%|██████████| 7050/7050 [00:03<00:00, 1884.50it/s]\n",
      "100%|██████████| 7050/7050 [00:03<00:00, 1934.71it/s]\n",
      "100%|██████████| 7050/7050 [00:03<00:00, 1923.87it/s]\n",
      "100%|██████████| 7050/7050 [00:03<00:00, 1895.78it/s]\n",
      "100%|██████████| 7050/7050 [00:03<00:00, 1909.47it/s]\n",
      "100%|██████████| 7050/7050 [00:03<00:00, 1918.12it/s]\n",
      "100%|██████████| 7050/7050 [00:03<00:00, 1892.42it/s]\n",
      "100%|██████████| 7050/7050 [00:03<00:00, 1899.85it/s]\n",
      "100%|██████████| 7050/7050 [00:03<00:00, 1891.06it/s]\n",
      "100%|██████████| 7050/7050 [00:03<00:00, 1935.38it/s]\n"
     ]
    },
    {
     "name": "stdout",
     "output_type": "stream",
     "text": [
      "NExConformal   : Cov: 0.892, Avg Width: 123.0, Avg Miscov: 0.026, Avg Regret: 0.0012, Avg. Runtime (n=10): 2.215250, Std. Runtime (n=10): 0.020513, LCEk: 0.14,\n",
      "Current method:  FACI\n"
     ]
    },
    {
     "name": "stderr",
     "output_type": "stream",
     "text": [
      "100%|██████████| 7050/7050 [00:04<00:00, 1451.46it/s]\n",
      "100%|██████████| 7050/7050 [00:04<00:00, 1423.03it/s]\n",
      "100%|██████████| 7050/7050 [00:04<00:00, 1442.24it/s]\n",
      "100%|██████████| 7050/7050 [00:04<00:00, 1413.70it/s]\n",
      "100%|██████████| 7050/7050 [00:04<00:00, 1418.65it/s]\n",
      "100%|██████████| 7050/7050 [00:04<00:00, 1448.80it/s]\n",
      "100%|██████████| 7050/7050 [00:05<00:00, 1401.68it/s]\n",
      "100%|██████████| 7050/7050 [00:04<00:00, 1442.92it/s]\n",
      "100%|██████████| 7050/7050 [00:05<00:00, 1339.83it/s]\n",
      "100%|██████████| 7050/7050 [00:05<00:00, 1404.66it/s]\n"
     ]
    },
    {
     "name": "stdout",
     "output_type": "stream",
     "text": [
      "FACI           : Cov: 0.889, Avg Width: 123.4, Avg Miscov: 0.025, Avg Regret: 0.0011, Avg. Runtime (n=10): 2.980709, Std. Runtime (n=10): 0.068055, LCEk: 0.12,\n",
      "Current method:  ScaleFreeOGD\n",
      "[]\n"
     ]
    },
    {
     "name": "stderr",
     "output_type": "stream",
     "text": [
      "100%|██████████| 7050/7050 [00:01<00:00, 4034.13it/s]\n"
     ]
    },
    {
     "name": "stdout",
     "output_type": "stream",
     "text": [
      "[]\n"
     ]
    },
    {
     "name": "stderr",
     "output_type": "stream",
     "text": [
      "100%|██████████| 7050/7050 [00:01<00:00, 3888.80it/s]\n"
     ]
    },
    {
     "name": "stdout",
     "output_type": "stream",
     "text": [
      "[]\n"
     ]
    },
    {
     "name": "stderr",
     "output_type": "stream",
     "text": [
      "100%|██████████| 7050/7050 [00:01<00:00, 4096.34it/s]\n"
     ]
    },
    {
     "name": "stdout",
     "output_type": "stream",
     "text": [
      "[]\n"
     ]
    },
    {
     "name": "stderr",
     "output_type": "stream",
     "text": [
      "100%|██████████| 7050/7050 [00:01<00:00, 3918.86it/s]\n"
     ]
    },
    {
     "name": "stdout",
     "output_type": "stream",
     "text": [
      "[]\n"
     ]
    },
    {
     "name": "stderr",
     "output_type": "stream",
     "text": [
      "100%|██████████| 7050/7050 [00:01<00:00, 3918.83it/s]\n"
     ]
    },
    {
     "name": "stdout",
     "output_type": "stream",
     "text": [
      "[]\n"
     ]
    },
    {
     "name": "stderr",
     "output_type": "stream",
     "text": [
      "100%|██████████| 7050/7050 [00:01<00:00, 4237.53it/s]\n"
     ]
    },
    {
     "name": "stdout",
     "output_type": "stream",
     "text": [
      "[]\n"
     ]
    },
    {
     "name": "stderr",
     "output_type": "stream",
     "text": [
      "100%|██████████| 7050/7050 [00:01<00:00, 4153.99it/s]\n"
     ]
    },
    {
     "name": "stdout",
     "output_type": "stream",
     "text": [
      "[]\n"
     ]
    },
    {
     "name": "stderr",
     "output_type": "stream",
     "text": [
      "100%|██████████| 7050/7050 [00:01<00:00, 3869.07it/s]\n"
     ]
    },
    {
     "name": "stdout",
     "output_type": "stream",
     "text": [
      "[]\n"
     ]
    },
    {
     "name": "stderr",
     "output_type": "stream",
     "text": [
      "100%|██████████| 7050/7050 [00:01<00:00, 4201.63it/s]\n"
     ]
    },
    {
     "name": "stdout",
     "output_type": "stream",
     "text": [
      "[]\n"
     ]
    },
    {
     "name": "stderr",
     "output_type": "stream",
     "text": [
      "100%|██████████| 7050/7050 [00:01<00:00, 4101.97it/s]\n"
     ]
    },
    {
     "name": "stdout",
     "output_type": "stream",
     "text": [
      "ScaleFreeOGD   : Cov: 0.899, Avg Width: 124.5, Avg Miscov: 0.017, Avg Regret: 0.0013, Avg. Runtime (n=10): 1.047247, Std. Runtime (n=10): 0.033382, LCEk: 0.09,\n",
      "Current method:  FACI_S\n"
     ]
    },
    {
     "name": "stderr",
     "output_type": "stream",
     "text": [
      "100%|██████████| 7050/7050 [00:03<00:00, 1836.68it/s]\n",
      "100%|██████████| 7050/7050 [00:03<00:00, 1929.84it/s]\n",
      "100%|██████████| 7050/7050 [00:03<00:00, 1998.93it/s]\n",
      "100%|██████████| 7050/7050 [00:03<00:00, 1881.86it/s]\n",
      "100%|██████████| 7050/7050 [00:03<00:00, 1906.59it/s]\n",
      "100%|██████████| 7050/7050 [00:03<00:00, 1992.38it/s]\n",
      "100%|██████████| 7050/7050 [00:03<00:00, 2006.47it/s]\n",
      "100%|██████████| 7050/7050 [00:03<00:00, 1933.57it/s]\n",
      "100%|██████████| 7050/7050 [00:03<00:00, 2040.66it/s]\n",
      "100%|██████████| 7050/7050 [00:03<00:00, 2010.04it/s]\n"
     ]
    },
    {
     "name": "stdout",
     "output_type": "stream",
     "text": [
      "FACI_S         : Cov: 0.892, Avg Width: 124.7, Avg Miscov: 0.024, Avg Regret: 0.0011, Avg. Runtime (n=10): 2.165840, Std. Runtime (n=10): 0.070238, LCEk: 0.11,\n",
      "Current method:  SAOCP\n"
     ]
    },
    {
     "name": "stderr",
     "output_type": "stream",
     "text": [
      "100%|██████████| 7050/7050 [00:18<00:00, 390.24it/s]\n",
      "100%|██████████| 7050/7050 [00:18<00:00, 385.66it/s]\n",
      "100%|██████████| 7050/7050 [00:18<00:00, 376.46it/s]\n",
      "100%|██████████| 7050/7050 [00:18<00:00, 371.38it/s]\n",
      "100%|██████████| 7050/7050 [00:18<00:00, 391.08it/s]\n",
      "100%|██████████| 7050/7050 [00:18<00:00, 383.89it/s]\n",
      "100%|██████████| 7050/7050 [00:18<00:00, 382.91it/s]\n",
      "100%|██████████| 7050/7050 [00:18<00:00, 377.64it/s]\n",
      "100%|██████████| 7050/7050 [00:18<00:00, 374.02it/s]\n",
      "100%|██████████| 7050/7050 [00:18<00:00, 386.35it/s]\n"
     ]
    },
    {
     "name": "stdout",
     "output_type": "stream",
     "text": [
      "SAOCP          : Cov: 0.883, Avg Width: 119.2, Avg Miscov: 0.025, Avg Regret: 0.0016, Avg. Runtime (n=10): 11.066553, Std. Runtime (n=10): 0.186862, LCEk: 0.10,\n",
      "Current method:  MagnitudeLearner\n"
     ]
    },
    {
     "name": "stderr",
     "output_type": "stream",
     "text": [
      "100%|██████████| 7050/7050 [00:01<00:00, 4075.33it/s]\n",
      "100%|██████████| 7050/7050 [00:01<00:00, 4010.26it/s]\n",
      "100%|██████████| 7050/7050 [00:01<00:00, 4082.09it/s]\n",
      "100%|██████████| 7050/7050 [00:01<00:00, 4136.77it/s]\n",
      "100%|██████████| 7050/7050 [00:01<00:00, 3983.52it/s]\n",
      "100%|██████████| 7050/7050 [00:01<00:00, 3839.13it/s]\n",
      "100%|██████████| 7050/7050 [00:01<00:00, 3949.12it/s]\n",
      "100%|██████████| 7050/7050 [00:01<00:00, 3773.17it/s]\n",
      "100%|██████████| 7050/7050 [00:01<00:00, 3818.39it/s]\n",
      "100%|██████████| 7050/7050 [00:01<00:00, 4138.46it/s]\n"
     ]
    },
    {
     "name": "stdout",
     "output_type": "stream",
     "text": [
      "MagnitudeLearner: Cov: 0.884, Avg Width: 118.5, Avg Miscov: 0.023, Avg Regret: 0.0021, Avg. Runtime (n=10): 1.063503, Std. Runtime (n=10): 0.034109, LCEk: 0.08,\n",
      "Current method:  MagLearnUndiscounted\n"
     ]
    },
    {
     "name": "stderr",
     "output_type": "stream",
     "text": [
      "100%|██████████| 7050/7050 [00:01<00:00, 4241.31it/s]\n",
      "100%|██████████| 7050/7050 [00:01<00:00, 4003.13it/s]\n",
      "100%|██████████| 7050/7050 [00:01<00:00, 4044.93it/s]\n",
      "100%|██████████| 7050/7050 [00:01<00:00, 4053.69it/s]\n",
      "100%|██████████| 7050/7050 [00:01<00:00, 3970.65it/s]\n",
      "100%|██████████| 7050/7050 [00:01<00:00, 4006.08it/s]\n",
      "100%|██████████| 7050/7050 [00:01<00:00, 4034.47it/s]\n",
      "100%|██████████| 7050/7050 [00:01<00:00, 3915.85it/s]\n",
      "100%|██████████| 7050/7050 [00:01<00:00, 4138.86it/s]\n",
      "100%|██████████| 7050/7050 [00:01<00:00, 3956.03it/s]"
     ]
    },
    {
     "name": "stdout",
     "output_type": "stream",
     "text": [
      "MagLearnUndiscounted: Cov: 0.894, Avg Width: 122.1, Avg Miscov: 0.020, Avg Regret: 0.0014, Avg. Runtime (n=10): 1.048302, Std. Runtime (n=10): 0.022795, LCEk: 0.09,\n"
     ]
    },
    {
     "name": "stderr",
     "output_type": "stream",
     "text": [
      "\n"
     ]
    }
   ],
   "source": [
    "\n",
    "# Train the model, save its logits on all the corrupted test datasets, and do temperature scaling\n",
    "print(\"Train the model, save its logits on all the corrupted test datasets, and do temperature scaling\")\n",
    "args = parse_args()\n",
    "# if args.dataset != \"ImageNet\":\n",
    "if not finished(args) and args.dataset != \"ImageNet\":\n",
    "    print(\"Training models\")\n",
    "    train(args)\n",
    "    print(\"Finished training\")\n",
    "if args.local_rank in [-1, 0]:\n",
    "    print(\"Getting temp file...\")\n",
    "    temp_file = get_temp_file(args)\n",
    "    print(\"Done\")\n",
    "    if not finished(args):\n",
    "        print(\"get_logits(args)\")\n",
    "        get_logits(args)\n",
    "        print(\"...Done\")\n",
    "        temp = temperature_scaling(args)\n",
    "        with open(temp_file, \"w\") as f:\n",
    "            f.write(str(temp))\n",
    "\n",
    "    # Load the saved logits\n",
    "    print(\"Load the saved logits\")\n",
    "    with open(temp_file) as f:\n",
    "        temp = float(f.readline())\n",
    "    n_data = None\n",
    "    sev2results = defaultdict(list)\n",
    "    for corruption in corruptions:\n",
    "        severities = [0] if corruption is None else [1, 2, 3, 4, 5]\n",
    "        for severity in severities:\n",
    "            try:\n",
    "                logits, labels = torch.load(get_results_file(args, corruption, severity))\n",
    "            except:\n",
    "                continue\n",
    "            sev2results[severity].append(list(zip(F.softmax(logits / temp, dim=-1).numpy(), labels.numpy())))\n",
    "            n_data = len(labels) if n_data is None else min(n_data, len(labels))\n",
    "\n",
    "    # Initialize conformal prediction methods, along with accumulators for results\n",
    "    print(\"Initialize conformal prediction methods, along with accumulators for results\")\n",
    "    lmbda, k_reg, n_class = raps_params(args.dataset)\n",
    "    D_old = 1 + lmbda * np.sqrt(n_class - k_reg)\n",
    "    D = 1*D_old\n",
    "    methods_iterate = [SimpleOGD, MagnitudeLearnerV2, SplitConformal, NExConformal, FACI, ScaleFreeOGD, FACI_S, SAOCP, MagnitudeLearner, MagLearnUndiscounted]\n",
    "    #methods = [SplitConformal]\n",
    "    label2err = defaultdict(list)\n",
    "    h = 5 + 0.5 * (len(methods_iterate) > 5)\n",
    "    np.random.seed(0)\n",
    "    num_trials = 10\n",
    "    elasped_time = np.zeros(num_trials,)\n",
    "    time_simpleogd = np.zeros_like(elasped_time)\n",
    "    mean_time_norm = np.zeros(len(methods_iterate))\n",
    "    std_time_norm = np.zeros(len(methods_iterate))\n",
    "    for method_ in methods_iterate:\n",
    "        methods = [method_]\n",
    "        i_method = methods_iterate.index(method_)\n",
    "        print(\"Current method: \", method_.__name__)\n",
    "        for jj in range(num_trials):\n",
    "            for i_shift, shift in enumerate([\"sudden\"]):\n",
    "                sevs, s_opts, w_opts = [], [], []\n",
    "                # warmup, window, run_length = 1000, 100, 500 # original code\n",
    "                warmup, window, run_length = 1000, 100, 1000 # our code\n",
    "                state = np.random.RandomState(0)\n",
    "                order = state.permutation(n_data)[: 6 * run_length + window // 2 + warmup]\n",
    "                coverages, s_hats, widths = [{m.__name__: [] for m in methods} for _ in range(3)]\n",
    "                predictors = [m(None, None, max_scale = D, lifetime = 32, coverage = args.target_cov) for m in methods]\n",
    "                t_vec = np.zeros(len(order))\n",
    "                start_time = time.time()\n",
    "                for t, i in tqdm.tqdm(enumerate(order, start=-warmup), total=len(order)):\n",
    "                    # Get saved results for the desired severity\n",
    "                    sev = t_to_sev(t, window=window, schedule = shift)\n",
    "                    probs, label = sev2results[sev][state.randint(0, len(sev2results[sev]))][i]\n",
    "\n",
    "                    # Convert probability to APS score\n",
    "                    i_sort = np.flip(np.argsort(probs))\n",
    "                    p_sort_cumsum = np.cumsum(probs[i_sort]) - state.rand() * probs[i_sort]\n",
    "                    s_sort_cumsum = p_sort_cumsum + lmbda * np.sqrt(np.cumsum([i > k_reg for i in range(n_class)]))\n",
    "                    w_opt = np.argsort(i_sort)[label] + 1\n",
    "                    s_opt = s_sort_cumsum[w_opt - 1]\n",
    "                    if t >= 0:\n",
    "                        sevs.append(sev)\n",
    "                        s_opts.append(s_opt)\n",
    "                        w_opts.append(w_opt)\n",
    "                        t_vec[t] = t\n",
    "\n",
    "                    # Update all the conformal predictors\n",
    "                    for predictor in predictors:\n",
    "                        name = type(predictor).__name__\n",
    "                        if t >= 0:\n",
    "                            _, s_hat = predictor.predict(horizon=1)\n",
    "                            w = np.sum(s_sort_cumsum <= s_hat)\n",
    "                            s_hats[name].append(s_hat)\n",
    "                            widths[name].append(w)\n",
    "                            coverages[name].append(w >= w_opt)\n",
    "                        predictor.update(ground_truth=pd.Series([s_opt]), forecast=pd.Series([0]), horizon=1)\n",
    "                #print(\"Total timesteps:\", t)\n",
    "                elasped_time[jj] = time.time() - start_time\n",
    "                if method_.__name__ == \"SimpleOGD\":\n",
    "                    time_simpleogd[jj] = elasped_time[jj]\n",
    "                # Perform evaluation & produce a pretty graph\n",
    "                plot_loss = False\n",
    "\n",
    "                s_opts = np.asarray(s_opts)\n",
    "                int_q = pd.Series(s_opts).rolling(window).quantile(args.target_cov).dropna()\n",
    "                #print(f\"Distribution shift: {shift}\")\n",
    "                if jj == num_trials-1:\n",
    "                    for i, m in enumerate(methods):\n",
    "                    # Compute various summary statistics\n",
    "                        name = m.__name__ # name of the method (OGD, SAOCP, etc.)\n",
    "                        label = sub(\"Split\", \"S\", sub(\"Conformal\", \"CP\", sub(\"ScaleFree\", \"SF-\", sub(\"_\", \"-\", name))))\n",
    "                        s_hat = np.asarray(s_hats[name])\n",
    "                        int_cov = gaussian_filter1d(pd.Series(coverages[name]).rolling(window).mean().dropna(), sigma=3)\n",
    "                        int_w = pd.Series(s_hats[name] if plot_loss else widths[name]).rolling(window).mean().dropna()\n",
    "                        int_losses = pd.Series(pinball_loss(s_opts, s_hat, args.target_cov)).rolling(window).mean().dropna()\n",
    "                        opts = [pinball_loss(s_opts[i : i + window], q, args.target_cov).mean() for i, q in enumerate(int_q)]\n",
    "                        int_regret = int_losses.values - np.asarray(opts)\n",
    "                        int_miscov = np.abs(args.target_cov - int_cov)\n",
    "\n",
    "                        # Do the plotting\n",
    "                        label2err[label].append(f\"{np.max(int_miscov):.2f}\")\n",
    "                        mean_time_simpleogd = np.mean(time_simpleogd)\n",
    "                        mean_time_norm[i_method] = (np.mean(elasped_time))/mean_time_simpleogd\n",
    "                        std_time_norm[i_method] = (np.std(elasped_time))/mean_time_simpleogd\n",
    "                        print(\n",
    "                            f\"{name:15}: \"\n",
    "                            f\"Cov: {np.mean(coverages[name]):.3f}, \"\n",
    "                            f\"Avg Width: {np.mean(widths[name]):.1f}, \"\n",
    "                            f\"Avg Miscov: {np.mean(int_miscov):.3f}, \"\n",
    "                            f\"Avg Regret: {np.mean(int_regret):.4f}, \"\n",
    "                            f\"Avg. Runtime (n=10): {mean_time_norm[i_method]:.6f}, \"\n",
    "                            f\"Std. Runtime (n=10): {std_time_norm[i_method]:.6f}, \"\n",
    "                            f\"LCEk: {np.max(int_miscov):.2f},\"\n",
    "                        )"
   ]
  },
  {
   "cell_type": "code",
   "execution_count": 31,
   "metadata": {},
   "outputs": [],
   "source": [
    "# Save the results\n",
    "np.savez_compressed('runtime_results.npz',methods_iterate = methods_iterate, mean_time_norm = mean_time_norm, std_time_norm = std_time_norm, label2err = label2err)"
   ]
  },
  {
   "cell_type": "code",
   "execution_count": 33,
   "metadata": {},
   "outputs": [
    {
     "name": "stdout",
     "output_type": "stream",
     "text": [
      "SimpleOGD: 1.0 +/- 0.03\n",
      "MagnitudeLearnerV2: 1.02 +/- 0.04\n",
      "SplitConformal: 1.57 +/- 0.04\n",
      "NExConformal: 2.22 +/- 0.02\n",
      "FACI: 2.98 +/- 0.07\n",
      "ScaleFreeOGD: 1.05 +/- 0.03\n",
      "FACI_S: 2.17 +/- 0.07\n",
      "SAOCP: 11.07 +/- 0.19\n",
      "MagnitudeLearner: 1.06 +/- 0.03\n",
      "MagLearnUndiscounted: 1.05 +/- 0.02\n"
     ]
    }
   ],
   "source": [
    "\n",
    "\n",
    "for i in range(len(methods_iterate)):\n",
    "    print(f\"{methods_iterate[i].__name__}: {np.round(mean_time_norm[i],2)} +/- {np.round(std_time_norm[i],2)}\")"
   ]
  }
 ],
 "metadata": {
  "kernelspec": {
   "display_name": "env",
   "language": "python",
   "name": "python3"
  },
  "language_info": {
   "codemirror_mode": {
    "name": "ipython",
    "version": 3
   },
   "file_extension": ".py",
   "mimetype": "text/x-python",
   "name": "python",
   "nbconvert_exporter": "python",
   "pygments_lexer": "ipython3",
   "version": "3.10.12"
  }
 },
 "nbformat": 4,
 "nbformat_minor": 2
}
