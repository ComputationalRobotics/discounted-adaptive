{
 "cells": [
  {
   "cell_type": "code",
   "execution_count": 1,
   "metadata": {},
   "outputs": [
    {
     "name": "stderr",
     "output_type": "stream",
     "text": [
      "/home/davidbombara/Documents/discounted-adaptive/env/lib/python3.10/site-packages/tqdm/auto.py:21: TqdmWarning: IProgress not found. Please update jupyter and ipywidgets. See https://ipywidgets.readthedocs.io/en/stable/user_install.html\n",
      "  from .autonotebook import tqdm as notebook_tqdm\n"
     ]
    }
   ],
   "source": [
    "#\n",
    "# Copyright (c) 2023 salesforce.com, inc.\n",
    "# All rights reserved.\n",
    "# SPDX-License-Identifier: Apache-2.0\n",
    "# For full license text, see the LICENSE file in the repo root or https://opensource.org/licenses/Apache-2.0\n",
    "#\n",
    "\"\"\"\n",
    "File for running all computer vision experiments.\n",
    "\"\"\"\n",
    "import argparse\n",
    "from collections import defaultdict\n",
    "import math\n",
    "import os\n",
    "from re import sub\n",
    "\n",
    "import matplotlib.pyplot as plt\n",
    "import numpy as np\n",
    "import pandas as pd\n",
    "from scipy.ndimage import gaussian_filter1d\n",
    "import torch\n",
    "import torch.distributed as dist\n",
    "import torch.nn as nn\n",
    "import torch.nn.functional as F\n",
    "from torch.optim import Adam, LBFGS, SGD\n",
    "import tqdm\n",
    "\n",
    "# Our new algorithm\n",
    "from online_conformal.magnitude_learner import MagnitudeLearner, MagnitudeLearnerV2\n",
    "from online_conformal.mag_learner_undiscounted import MagLearnUndiscounted\n",
    "from online_conformal.ogd_simple import SimpleOGD\n",
    "\n",
    "# From previous work\n",
    "from online_conformal.saocp import SAOCP\n",
    "from online_conformal.faci import FACI, FACI_S\n",
    "from online_conformal.nex_conformal import NExConformal\n",
    "from online_conformal.ogd import ScaleFreeOGD\n",
    "from online_conformal.split_conformal import SplitConformal\n",
    "from online_conformal.utils import pinball_loss\n",
    "from cv_utils import create_model, data_loader\n",
    "from cv_utils import ImageNet, TinyImageNet, CIFAR10, CIFAR100, ImageNetC, TinyImageNetC, CIFAR10C, CIFAR100C\n",
    "\n",
    "import time"
   ]
  },
  {
   "cell_type": "code",
   "execution_count": 2,
   "metadata": {},
   "outputs": [],
   "source": [
    "__file__ = \"vision.ipynb\""
   ]
  },
  {
   "cell_type": "code",
   "execution_count": 3,
   "metadata": {},
   "outputs": [
    {
     "name": "stdout",
     "output_type": "stream",
     "text": [
      "args_local_rank =  -1\n",
      "args.devices =  cuda\n"
     ]
    },
    {
     "data": {
      "text/plain": [
       "argparse.Namespace"
      ]
     },
     "execution_count": 3,
     "metadata": {},
     "output_type": "execute_result"
    }
   ],
   "source": [
    "\n",
    "corruptions = [\n",
    "    None,\n",
    "    \"brightness\",\n",
    "    \"contrast\",\n",
    "    \"defocus_blur\",\n",
    "    \"elastic_transform\",\n",
    "    \"fog\",\n",
    "    \"frost\",\n",
    "    \"gaussian_noise\",\n",
    "    \"glass_blur\",\n",
    "    \"impulse_noise\",\n",
    "    \"jpeg_compression\",\n",
    "    \"motion_blur\",\n",
    "    \"pixelate\",\n",
    "    \"shot_noise\",\n",
    "    \"snow\",\n",
    "    \"zoom_blur\",\n",
    "]\n",
    "\n",
    "def parse_args():\n",
    "    args = argparse.Namespace\n",
    "    args.dataset = \"TinyImageNet\"\n",
    "    args.model = \"resnet50\"\n",
    "    args.lr = 1e-3\n",
    "    args.batch_size = 256\n",
    "    args.n_epochs = 150 #default = 150\n",
    "    args.patience = 10\n",
    "    #args.ignore_checkpoint = \"store_true\"\n",
    "    args.target_cov = 90\n",
    "    args.ignore_checkpoint = True\n",
    "\n",
    "    assert 50 < args.target_cov < 100\n",
    "    args.target_cov = args.target_cov / 100\n",
    "\n",
    "    # Set up distributed training if desired, and set the device\n",
    "    args.local_rank = int(os.environ.get(\"LOCAL_RANK\", -1))\n",
    "    print(\"args_local_rank = \", args.local_rank)\n",
    "    if args.local_rank == -1:\n",
    "        if torch.cuda.is_available():\n",
    "            args.device = torch.device(\"cuda\")\n",
    "        else:\n",
    "            args.device = torch.device(\"cpu\")\n",
    "        args.world_size = 1\n",
    "    else:\n",
    "        dist.init_process_group(backend=\"nccl\")\n",
    "        args.device = torch.device(args.local_rank)\n",
    "        args.world_size = dist.get_world_size()\n",
    "    print(\"args.devices = \", args.device)\n",
    "        \n",
    "    return args\n",
    "\n",
    "parse_args()"
   ]
  },
  {
   "cell_type": "code",
   "execution_count": 4,
   "metadata": {},
   "outputs": [],
   "source": [
    "def get_base_dataset(dataset, split):\n",
    "    if dataset == \"ImageNet\":\n",
    "        return ImageNet(split)\n",
    "    elif dataset == \"TinyImageNet\":\n",
    "        return TinyImageNet(split)\n",
    "    elif dataset == \"CIFAR10\":\n",
    "        return CIFAR10(split)\n",
    "    elif dataset == \"CIFAR100\":\n",
    "        return CIFAR100(split)\n",
    "    raise ValueError(f\"Dataset {dataset} is not supported.\")\n",
    "\n",
    "\n",
    "def get_model_file(args):\n",
    "    rootdir = os.path.dirname(os.path.abspath(__file__))\n",
    "    return os.path.join(rootdir, \"cv_models\", args.dataset, args.model, \"model.pt\")\n",
    "\n",
    "\n",
    "def get_model(args):\n",
    "    if args.dataset != \"ImageNet\":\n",
    "        return torch.load(get_model_file(args), map_location=args.device)\n",
    "    return create_model(dataset=ImageNet(\"valid\"), model_name=args.model, device=args.device)\n",
    "\n",
    "\n",
    "def get_results_file(args, corruption, severity):\n",
    "    rootdir = os.path.dirname(os.path.abspath(__file__))\n",
    "    return os.path.join(rootdir, \"cv_logits\", args.dataset, args.model, f\"{corruption}_{severity}.pt\")\n",
    "\n",
    "\n",
    "def get_temp_file(args):\n",
    "    return os.path.join(os.path.dirname(get_results_file(args, None, 0)), \"temp.txt\")\n",
    "\n",
    "\n",
    "def finished(args):\n",
    "    for corruption in corruptions:\n",
    "        for severity in [0] if corruption is None else [1, 2, 3, 4, 5]:\n",
    "            fname = get_results_file(args, corruption, severity)\n",
    "            if not os.path.isfile(fname):\n",
    "                return False\n",
    "    return os.path.isfile(get_temp_file(args))\n",
    "\n",
    "\n",
    "def raps_params(dataset):\n",
    "    if dataset == \"CIFAR10\":\n",
    "        lmbda, k_reg, n_class = 0.1, 1, 10\n",
    "    elif dataset == \"CIFAR100\":\n",
    "        lmbda, k_reg, n_class = 0.02, 5, 100\n",
    "    elif dataset == \"TinyImageNet\":\n",
    "        lmbda, k_reg, n_class = 0.01, 20, 200\n",
    "    elif dataset == \"ImageNet\":\n",
    "        lmbda, k_reg, n_class = 0.01, 10, 1000\n",
    "    else:\n",
    "        raise ValueError(f\"Unsupported dataset {dataset}\")\n",
    "    return lmbda, k_reg, n_class\n",
    "\n",
    "\n",
    "def train(args):\n",
    "    # Get train/valid data\n",
    "    print(\"Getting training and validation data\")\n",
    "    train_data = get_base_dataset(args.dataset, \"train\")\n",
    "    valid_data = get_base_dataset(args.dataset, \"valid\")\n",
    "\n",
    "    # Load model checkpoint one has been saved. Otherwise, initialize everything from scratch.\n",
    "    print(\"Load model checkpoint one has been saved. Otherwise, initialize everything from scratch.\")\n",
    "    model_file = get_model_file(args)\n",
    "    ckpt_name = os.path.join(os.path.dirname(model_file), \"checkpoint.pt\")\n",
    "    if os.path.isfile(ckpt_name) and not args.ignore_checkpoint:\n",
    "        model, opt, epoch, best_epoch, best_valid_acc = torch.load(ckpt_name, map_location=args.device)\n",
    "    else:\n",
    "        # create save directory if needed\n",
    "        print(\"Create a save directory if needed\")\n",
    "        if args.local_rank in [-1, 0]:\n",
    "            os.makedirs(os.path.dirname(ckpt_name), exist_ok=True)\n",
    "        model = create_model(dataset=train_data, model_name=args.model, device=args.device)\n",
    "        if \"ImageNet\" in args.dataset:\n",
    "            opt = SGD(model.parameters(), lr=0.1, momentum=0.9)\n",
    "        else:\n",
    "            opt = Adam(model.parameters(), lr=args.lr)\n",
    "        epoch, best_epoch, best_valid_acc = 0, 0, 0.0\n",
    "\n",
    "    # Set up distributed data parallel if applicable\n",
    "    print(\"Set up distributed data parallel if applicable\")\n",
    "    writer = args.local_rank in [-1, 0]\n",
    "    if args.local_rank != -1:\n",
    "        model = nn.parallel.DistributedDataParallel(model, device_ids=[args.device])\n",
    "\n",
    "    for epoch in range(epoch, args.n_epochs):\n",
    "        # Check early stopping condition\n",
    "        print(\"Check early stopping condition\")\n",
    "        if args.patience and epoch - best_epoch > args.patience:\n",
    "            break\n",
    "\n",
    "        # Main training loop\n",
    "        print(\"Main training loop\")\n",
    "        train_loader = data_loader(dataset=train_data, batch_size=args.batch_size // args.world_size, epoch=epoch)\n",
    "        for x, y in tqdm.tqdm(train_loader, desc=f\"Train epoch {epoch+1:2}/{args.n_epochs}\", disable=not writer):\n",
    "            opt.zero_grad()\n",
    "            pred = model(x.to(device=args.device))\n",
    "            loss = F.cross_entropy(pred, y.to(device=args.device))\n",
    "            loss.backward()\n",
    "            opt.step()\n",
    "\n",
    "        # Anneal learning rate by a factor of 10 every 7 epochs\n",
    "        print(\"Anneal learning rate by a factor of 10 every 7 epochs\")\n",
    "        if (epoch + 1) % 7 == 0:\n",
    "            for g in opt.param_groups:\n",
    "                g[\"lr\"] *= 0.1\n",
    "\n",
    "        # Obtain accuracy on the validation dataset\n",
    "        print(\"Obtain accuracy on the validation dataset\")\n",
    "        valid_acc = torch.zeros(2, device=args.device)\n",
    "        valid_loader = data_loader(valid_data, batch_size=args.batch_size, epoch=epoch)\n",
    "        with torch.no_grad():\n",
    "            for x, y in tqdm.tqdm(valid_loader, desc=f\"Valid epoch {epoch + 1:2}/{args.n_epochs}\", disable=True):\n",
    "                pred = model(x.to(device=args.device))\n",
    "                valid_acc[0] += x.shape[0]\n",
    "                valid_acc[1] += (pred.argmax(dim=-1) == y.to(device=args.device)).sum().item()\n",
    "\n",
    "        # Reduce results from all parallel processes\n",
    "        print(\"Reduce results from all parallel processes\")\n",
    "        if args.local_rank != -1:\n",
    "            dist.all_reduce(valid_acc)\n",
    "        valid_acc = (valid_acc[1] / valid_acc[0]).item()\n",
    "\n",
    "        # Save checkpoint & update best saved model\n",
    "        print(\"Save checkpoints and update best saved model\")\n",
    "        if writer:\n",
    "            print(f\"Epoch {epoch + 1:2} valid acc: {valid_acc:.5f}\")\n",
    "            model_to_save = model.module if args.local_rank != -1 else model\n",
    "            if valid_acc > best_valid_acc:\n",
    "                best_epoch = epoch\n",
    "                best_valid_acc = valid_acc\n",
    "                torch.save(model_to_save, model_file)\n",
    "            torch.save([model_to_save, opt, epoch + 1, best_epoch, best_valid_acc], ckpt_name)\n",
    "\n",
    "        # Synchronize before starting next epoch\n",
    "        print(\"Synchronize before starting next epoch\")\n",
    "        if args.local_rank != -1:\n",
    "            dist.barrier()\n",
    "\n",
    "\n",
    "def temperature_scaling(args):\n",
    "    temp = nn.Parameter(torch.tensor(1.0, device=args.device))\n",
    "    opt = LBFGS([temp], lr=0.01, max_iter=500)\n",
    "    loss_fn = nn.CrossEntropyLoss()\n",
    "\n",
    "    n_epochs = 10\n",
    "    valid_data = get_base_dataset(args.dataset, \"valid\")\n",
    "    model = get_model(args)\n",
    "    for epoch in range(n_epochs):\n",
    "        valid_loader = data_loader(valid_data, batch_size=args.batch_size, epoch=epoch)\n",
    "        for x, y in tqdm.tqdm(valid_loader, desc=f\"Calibration epoch {epoch + 1:2}/{n_epochs}\", disable=False):\n",
    "            with torch.no_grad():\n",
    "                logits = model(x.to(device=args.device))\n",
    "\n",
    "            def eval():\n",
    "                opt.zero_grad()\n",
    "                loss = loss_fn(logits / temp, y.to(device=args.device))\n",
    "                loss.backward()\n",
    "                return loss\n",
    "\n",
    "            opt.step(eval)\n",
    "\n",
    "    return temp.item()\n",
    "\n",
    "\n",
    "def get_logits(args):\n",
    "    if args.dataset == \"CIFAR10\":\n",
    "        dataset_cls = CIFAR10C\n",
    "    elif args.dataset == \"CIFAR100\":\n",
    "        dataset_cls = CIFAR100C\n",
    "    elif args.dataset == \"TinyImageNet\":\n",
    "        dataset_cls = TinyImageNetC\n",
    "    elif args.dataset == \"ImageNet\":\n",
    "        dataset_cls = ImageNetC\n",
    "    else:\n",
    "        raise ValueError(f\"Dataset {args.dataset} is not supported.\")\n",
    "    model = None\n",
    "    print(\"Dataset: \", dataset_cls)\n",
    "\n",
    "    print(\"Applying corruptions: \", corruptions)\n",
    "    for corruption in tqdm.tqdm(corruptions, desc=\"Corruptions\", position=1):\n",
    "        print(\"Corruption: \", corruption)\n",
    "        severities = [0] if corruption is None else [1, 2, 3, 4, 5]\n",
    "        print(\"Applying various severity levels: \", severities)\n",
    "        for severity in tqdm.tqdm(severities, desc=\"Severity Levels\", position=2, leave=False):\n",
    "            print(\"Severity: \", severity)\n",
    "            fname = get_results_file(args, corruption, severity)\n",
    "            if os.path.isfile(fname) and not args.ignore_checkpoint:\n",
    "                continue\n",
    "            os.makedirs(os.path.dirname(fname), exist_ok=True)\n",
    "            if model is None:\n",
    "                model = get_model(args)\n",
    "\n",
    "            # Save the model's logits & labels for the whole dataset\n",
    "            print(\"Save the model's logits & labels for the whole dataset\")\n",
    "            logits, labels = [], []\n",
    "            dataset = dataset_cls(corruption=corruption, severity=severity)\n",
    "            loader = data_loader(dataset, batch_size=args.batch_size)\n",
    "            with torch.no_grad():\n",
    "                for x, y in loader:\n",
    "                    logits.append(model(x.to(device=args.device)).cpu())\n",
    "                    labels.append(y.cpu())\n",
    "            torch.save([torch.cat(logits), torch.cat(labels)], fname)\n",
    "\n",
    "\n",
    "def t_to_sev(t, window, run_length=500, schedule=None):\n",
    "    if t < window or schedule in [None, \"None\", \"none\"]:\n",
    "        return 0\n",
    "    t_base = t - window // 2\n",
    "    if schedule == \"gradual\":\n",
    "        k = (t_base // run_length) % 10\n",
    "        return k if k <= 5 else 10 - k\n",
    "    if schedule == \"random_sudden\":\n",
    "        #return np.random.randint(0, 5) * ((t_base // run_length) % 2)\n",
    "        return np.clip(np.random.randint(0, 10) * ((t_base // run_length) % 2),0,5)\n",
    "    if schedule == \"random_gradual\":\n",
    "        k = (((t_base* abs(np.random.uniform(1,1.5))) // run_length) % 10 ) \n",
    "        return (k if k <= 5 else 10 - k) * np.random.randint(1,2) \n",
    "    return 5 * ((t_base // run_length) % 2) # default: sudden schedule"
   ]
  },
  {
   "cell_type": "code",
   "execution_count": 5,
   "metadata": {},
   "outputs": [
    {
     "name": "stdout",
     "output_type": "stream",
     "text": [
      "Train the model, save its logits on all the corrupted test datasets, and do temperature scaling\n",
      "args_local_rank =  -1\n",
      "args.devices =  cuda\n",
      "Getting temp file...\n",
      "Done\n",
      "Load the saved logits\n",
      "Initialize conformal prediction methods, along with accumulators for results\n",
      "Current method:  SimpleOGD\n"
     ]
    },
    {
     "name": "stderr",
     "output_type": "stream",
     "text": [
      "100%|██████████| 7012/7012 [00:01<00:00, 4310.59it/s]\n",
      "100%|██████████| 7012/7012 [00:01<00:00, 4282.33it/s]\n",
      "100%|██████████| 7012/7012 [00:01<00:00, 4440.52it/s]\n",
      "100%|██████████| 7012/7012 [00:01<00:00, 4424.21it/s]\n",
      "100%|██████████| 7012/7012 [00:01<00:00, 4313.44it/s]\n",
      "100%|██████████| 7012/7012 [00:01<00:00, 4448.31it/s]\n",
      "100%|██████████| 7012/7012 [00:01<00:00, 4242.40it/s]\n",
      "100%|██████████| 7012/7012 [00:01<00:00, 4047.60it/s]\n",
      "100%|██████████| 7012/7012 [00:01<00:00, 4542.42it/s]\n",
      "100%|██████████| 7012/7012 [00:01<00:00, 4323.26it/s]\n"
     ]
    },
    {
     "name": "stdout",
     "output_type": "stream",
     "text": [
      "SimpleOGD      : Cov: 0.899, Avg Width: 125.0, Avg Miscov: 0.041, Avg Regret: 0.0031, Avg. Runtime (n=10): 1.000000, Std. Runtime (n=10): 0.030667, LCEk: 0.30,\n",
      "Current method:  MagnitudeLearnerV2\n"
     ]
    },
    {
     "name": "stderr",
     "output_type": "stream",
     "text": [
      "100%|██████████| 7012/7012 [00:01<00:00, 3845.17it/s]\n",
      "100%|██████████| 7012/7012 [00:01<00:00, 3856.07it/s]\n",
      "100%|██████████| 7012/7012 [00:01<00:00, 3959.52it/s]\n",
      "100%|██████████| 7012/7012 [00:01<00:00, 3982.57it/s]\n",
      "100%|██████████| 7012/7012 [00:01<00:00, 4387.17it/s]\n",
      "100%|██████████| 7012/7012 [00:01<00:00, 4209.40it/s]\n",
      "100%|██████████| 7012/7012 [00:01<00:00, 4189.98it/s]\n",
      "100%|██████████| 7012/7012 [00:01<00:00, 4212.53it/s]\n",
      "100%|██████████| 7012/7012 [00:01<00:00, 4161.85it/s]\n",
      "100%|██████████| 7012/7012 [00:01<00:00, 4290.40it/s]\n"
     ]
    },
    {
     "name": "stdout",
     "output_type": "stream",
     "text": [
      "MagnitudeLearnerV2: Cov: 0.898, Avg Width: 145.0, Avg Miscov: 0.035, Avg Regret: 0.0245, Avg. Runtime (n=10): 1.056308, Std. Runtime (n=10): 0.045832, LCEk: 0.13,\n",
      "Current method:  SplitConformal\n"
     ]
    },
    {
     "name": "stderr",
     "output_type": "stream",
     "text": [
      "100%|██████████| 7012/7012 [00:02<00:00, 2748.94it/s]\n",
      "100%|██████████| 7012/7012 [00:02<00:00, 2648.08it/s]\n",
      "100%|██████████| 7012/7012 [00:02<00:00, 2668.93it/s]\n",
      "100%|██████████| 7012/7012 [00:02<00:00, 2706.14it/s]\n",
      "100%|██████████| 7012/7012 [00:02<00:00, 2734.72it/s]\n",
      "100%|██████████| 7012/7012 [00:02<00:00, 2659.71it/s]\n",
      "100%|██████████| 7012/7012 [00:02<00:00, 2689.22it/s]\n",
      "100%|██████████| 7012/7012 [00:02<00:00, 2672.88it/s]\n",
      "100%|██████████| 7012/7012 [00:02<00:00, 2708.73it/s]\n",
      "100%|██████████| 7012/7012 [00:02<00:00, 2714.54it/s]\n"
     ]
    },
    {
     "name": "stdout",
     "output_type": "stream",
     "text": [
      "SplitConformal : Cov: 0.843, Avg Width: 129.5, Avg Miscov: 0.122, Avg Regret: 0.0077, Avg. Runtime (n=10): 1.607251, Std. Runtime (n=10): 0.018586, LCEk: 0.54,\n",
      "Current method:  NExConformal\n"
     ]
    },
    {
     "name": "stderr",
     "output_type": "stream",
     "text": [
      "100%|██████████| 7012/7012 [00:03<00:00, 1938.65it/s]\n",
      "100%|██████████| 7012/7012 [00:03<00:00, 1861.38it/s]\n",
      "100%|██████████| 7012/7012 [00:03<00:00, 1865.62it/s]\n",
      "100%|██████████| 7012/7012 [00:03<00:00, 1954.34it/s]\n",
      "100%|██████████| 7012/7012 [00:03<00:00, 1898.90it/s]\n",
      "100%|██████████| 7012/7012 [00:03<00:00, 1954.63it/s]\n",
      "100%|██████████| 7012/7012 [00:03<00:00, 1949.19it/s]\n",
      "100%|██████████| 7012/7012 [00:03<00:00, 1910.48it/s]\n",
      "100%|██████████| 7012/7012 [00:03<00:00, 1964.67it/s]\n",
      "100%|██████████| 7012/7012 [00:03<00:00, 1979.92it/s]\n"
     ]
    },
    {
     "name": "stdout",
     "output_type": "stream",
     "text": [
      "NExConformal   : Cov: 0.894, Avg Width: 123.7, Avg Miscov: 0.051, Avg Regret: 0.0031, Avg. Runtime (n=10): 2.247321, Std. Runtime (n=10): 0.046433, LCEk: 0.25,\n",
      "Current method:  FACI\n"
     ]
    },
    {
     "name": "stderr",
     "output_type": "stream",
     "text": [
      "100%|██████████| 7012/7012 [00:04<00:00, 1441.26it/s]\n",
      "100%|██████████| 7012/7012 [00:04<00:00, 1423.24it/s]\n",
      "100%|██████████| 7012/7012 [00:05<00:00, 1350.71it/s]\n",
      "100%|██████████| 7012/7012 [00:04<00:00, 1424.41it/s]\n",
      "100%|██████████| 7012/7012 [00:05<00:00, 1312.13it/s]\n",
      "100%|██████████| 7012/7012 [00:05<00:00, 1364.75it/s]\n",
      "100%|██████████| 7012/7012 [00:04<00:00, 1419.99it/s]\n",
      "100%|██████████| 7012/7012 [00:04<00:00, 1443.71it/s]\n",
      "100%|██████████| 7012/7012 [00:04<00:00, 1461.43it/s]\n",
      "100%|██████████| 7012/7012 [00:04<00:00, 1431.74it/s]\n"
     ]
    },
    {
     "name": "stdout",
     "output_type": "stream",
     "text": [
      "FACI           : Cov: 0.891, Avg Width: 123.4, Avg Miscov: 0.046, Avg Regret: 0.0030, Avg. Runtime (n=10): 3.080052, Std. Runtime (n=10): 0.102802, LCEk: 0.23,\n",
      "Current method:  ScaleFreeOGD\n",
      "[]\n"
     ]
    },
    {
     "name": "stderr",
     "output_type": "stream",
     "text": [
      "100%|██████████| 7012/7012 [00:01<00:00, 4061.46it/s]\n"
     ]
    },
    {
     "name": "stdout",
     "output_type": "stream",
     "text": [
      "[]\n"
     ]
    },
    {
     "name": "stderr",
     "output_type": "stream",
     "text": [
      "100%|██████████| 7012/7012 [00:01<00:00, 4012.57it/s]\n"
     ]
    },
    {
     "name": "stdout",
     "output_type": "stream",
     "text": [
      "[]\n"
     ]
    },
    {
     "name": "stderr",
     "output_type": "stream",
     "text": [
      "100%|██████████| 7012/7012 [00:01<00:00, 4112.99it/s]\n"
     ]
    },
    {
     "name": "stdout",
     "output_type": "stream",
     "text": [
      "[]\n"
     ]
    },
    {
     "name": "stderr",
     "output_type": "stream",
     "text": [
      "100%|██████████| 7012/7012 [00:01<00:00, 4511.30it/s]\n"
     ]
    },
    {
     "name": "stdout",
     "output_type": "stream",
     "text": [
      "[]\n"
     ]
    },
    {
     "name": "stderr",
     "output_type": "stream",
     "text": [
      "100%|██████████| 7012/7012 [00:01<00:00, 4573.35it/s]\n"
     ]
    },
    {
     "name": "stdout",
     "output_type": "stream",
     "text": [
      "[]\n"
     ]
    },
    {
     "name": "stderr",
     "output_type": "stream",
     "text": [
      "100%|██████████| 7012/7012 [00:01<00:00, 4302.65it/s]\n"
     ]
    },
    {
     "name": "stdout",
     "output_type": "stream",
     "text": [
      "[]\n"
     ]
    },
    {
     "name": "stderr",
     "output_type": "stream",
     "text": [
      "100%|██████████| 7012/7012 [00:01<00:00, 4288.46it/s]\n"
     ]
    },
    {
     "name": "stdout",
     "output_type": "stream",
     "text": [
      "[]\n"
     ]
    },
    {
     "name": "stderr",
     "output_type": "stream",
     "text": [
      "100%|██████████| 7012/7012 [00:01<00:00, 4193.16it/s]\n"
     ]
    },
    {
     "name": "stdout",
     "output_type": "stream",
     "text": [
      "[]\n"
     ]
    },
    {
     "name": "stderr",
     "output_type": "stream",
     "text": [
      "100%|██████████| 7012/7012 [00:01<00:00, 4234.96it/s]\n"
     ]
    },
    {
     "name": "stdout",
     "output_type": "stream",
     "text": [
      "[]\n"
     ]
    },
    {
     "name": "stderr",
     "output_type": "stream",
     "text": [
      "100%|██████████| 7012/7012 [00:01<00:00, 4499.86it/s]\n"
     ]
    },
    {
     "name": "stdout",
     "output_type": "stream",
     "text": [
      "ScaleFreeOGD   : Cov: 0.899, Avg Width: 123.7, Avg Miscov: 0.038, Avg Regret: 0.0031, Avg. Runtime (n=10): 1.014628, Std. Runtime (n=10): 0.043740, LCEk: 0.26,\n",
      "Current method:  FACI_S\n"
     ]
    },
    {
     "name": "stderr",
     "output_type": "stream",
     "text": [
      "100%|██████████| 7012/7012 [00:03<00:00, 1931.96it/s]\n",
      "100%|██████████| 7012/7012 [00:03<00:00, 1963.86it/s]\n",
      "100%|██████████| 7012/7012 [00:03<00:00, 2041.82it/s]\n",
      "100%|██████████| 7012/7012 [00:03<00:00, 2082.07it/s]\n",
      "100%|██████████| 7012/7012 [00:03<00:00, 1994.55it/s]\n",
      "100%|██████████| 7012/7012 [00:03<00:00, 2025.52it/s]\n",
      "100%|██████████| 7012/7012 [00:03<00:00, 2006.85it/s]\n",
      "100%|██████████| 7012/7012 [00:03<00:00, 2030.08it/s]\n",
      "100%|██████████| 7012/7012 [00:03<00:00, 1940.75it/s]\n",
      "100%|██████████| 7012/7012 [00:03<00:00, 1964.93it/s]\n"
     ]
    },
    {
     "name": "stdout",
     "output_type": "stream",
     "text": [
      "FACI_S         : Cov: 0.896, Avg Width: 124.9, Avg Miscov: 0.044, Avg Regret: 0.0030, Avg. Runtime (n=10): 2.168286, Std. Runtime (n=10): 0.049246, LCEk: 0.22,\n",
      "Current method:  SAOCP\n"
     ]
    },
    {
     "name": "stderr",
     "output_type": "stream",
     "text": [
      "100%|██████████| 7012/7012 [00:17<00:00, 393.53it/s]\n",
      "100%|██████████| 7012/7012 [00:18<00:00, 384.64it/s]\n",
      "100%|██████████| 7012/7012 [00:18<00:00, 383.94it/s]\n",
      "100%|██████████| 7012/7012 [00:18<00:00, 386.58it/s]\n",
      "100%|██████████| 7012/7012 [00:19<00:00, 364.44it/s]\n",
      "100%|██████████| 7012/7012 [00:18<00:00, 389.22it/s]\n",
      "100%|██████████| 7012/7012 [00:18<00:00, 377.00it/s]\n",
      "100%|██████████| 7012/7012 [00:18<00:00, 369.35it/s]\n",
      "100%|██████████| 7012/7012 [00:18<00:00, 386.41it/s]\n",
      "100%|██████████| 7012/7012 [00:18<00:00, 381.89it/s]\n"
     ]
    },
    {
     "name": "stdout",
     "output_type": "stream",
     "text": [
      "SAOCP          : Cov: 0.887, Avg Width: 119.9, Avg Miscov: 0.040, Avg Regret: 0.0035, Avg. Runtime (n=10): 11.346979, Std. Runtime (n=10): 0.258390, LCEk: 0.21,\n",
      "Current method:  MagnitudeLearner\n"
     ]
    },
    {
     "name": "stderr",
     "output_type": "stream",
     "text": [
      "100%|██████████| 7012/7012 [00:01<00:00, 4177.07it/s]\n",
      "100%|██████████| 7012/7012 [00:01<00:00, 4183.50it/s]\n",
      "100%|██████████| 7012/7012 [00:01<00:00, 3957.98it/s]\n",
      "100%|██████████| 7012/7012 [00:01<00:00, 3962.32it/s]\n",
      "100%|██████████| 7012/7012 [00:01<00:00, 4142.26it/s]\n",
      "100%|██████████| 7012/7012 [00:01<00:00, 3868.26it/s]\n",
      "100%|██████████| 7012/7012 [00:01<00:00, 3811.39it/s]\n",
      "100%|██████████| 7012/7012 [00:01<00:00, 3992.83it/s]\n",
      "100%|██████████| 7012/7012 [00:01<00:00, 4077.07it/s]\n",
      "100%|██████████| 7012/7012 [00:01<00:00, 4124.73it/s]\n"
     ]
    },
    {
     "name": "stdout",
     "output_type": "stream",
     "text": [
      "MagnitudeLearner: Cov: 0.901, Avg Width: 143.2, Avg Miscov: 0.034, Avg Regret: 0.0191, Avg. Runtime (n=10): 1.076060, Std. Runtime (n=10): 0.033422, LCEk: 0.16,\n",
      "Current method:  MagLearnUndiscounted\n"
     ]
    },
    {
     "name": "stderr",
     "output_type": "stream",
     "text": [
      "100%|██████████| 7012/7012 [00:01<00:00, 3870.46it/s]\n",
      "100%|██████████| 7012/7012 [00:01<00:00, 4097.60it/s]\n",
      "100%|██████████| 7012/7012 [00:01<00:00, 4018.98it/s]\n",
      "100%|██████████| 7012/7012 [00:01<00:00, 3945.10it/s]\n",
      "100%|██████████| 7012/7012 [00:01<00:00, 4074.72it/s]\n",
      "100%|██████████| 7012/7012 [00:01<00:00, 3763.04it/s]\n",
      "100%|██████████| 7012/7012 [00:01<00:00, 3762.83it/s]\n",
      "100%|██████████| 7012/7012 [00:01<00:00, 3934.00it/s]\n",
      "100%|██████████| 7012/7012 [00:01<00:00, 4069.90it/s]\n",
      "100%|██████████| 7012/7012 [00:01<00:00, 3989.11it/s]"
     ]
    },
    {
     "name": "stdout",
     "output_type": "stream",
     "text": [
      "MagLearnUndiscounted: Cov: 0.903, Avg Width: 133.5, Avg Miscov: 0.034, Avg Regret: 0.0090, Avg. Runtime (n=10): 1.097086, Std. Runtime (n=10): 0.032627, LCEk: 0.12,\n"
     ]
    },
    {
     "name": "stderr",
     "output_type": "stream",
     "text": [
      "\n"
     ]
    }
   ],
   "source": [
    "\n",
    "# Train the model, save its logits on all the corrupted test datasets, and do temperature scaling\n",
    "print(\"Train the model, save its logits on all the corrupted test datasets, and do temperature scaling\")\n",
    "args = parse_args()\n",
    "# if args.dataset != \"ImageNet\":\n",
    "if not finished(args) and args.dataset != \"ImageNet\":\n",
    "    print(\"Training models\")\n",
    "    train(args)\n",
    "    print(\"Finished training\")\n",
    "if args.local_rank in [-1, 0]:\n",
    "    print(\"Getting temp file...\")\n",
    "    temp_file = get_temp_file(args)\n",
    "    print(\"Done\")\n",
    "    if not finished(args):\n",
    "        print(\"get_logits(args)\")\n",
    "        get_logits(args)\n",
    "        print(\"...Done\")\n",
    "        temp = temperature_scaling(args)\n",
    "        with open(temp_file, \"w\") as f:\n",
    "            f.write(str(temp))\n",
    "\n",
    "    # Load the saved logits\n",
    "    print(\"Load the saved logits\")\n",
    "    with open(temp_file) as f:\n",
    "        temp = float(f.readline())\n",
    "    n_data = None\n",
    "    sev2results = defaultdict(list)\n",
    "    for corruption in corruptions:\n",
    "        severities = [0] if corruption is None else [1, 2, 3, 4, 5]\n",
    "        for severity in severities:\n",
    "            try:\n",
    "                logits, labels = torch.load(get_results_file(args, corruption, severity))\n",
    "            except:\n",
    "                continue\n",
    "            sev2results[severity].append(list(zip(F.softmax(logits / temp, dim=-1).numpy(), labels.numpy())))\n",
    "            n_data = len(labels) if n_data is None else min(n_data, len(labels))\n",
    "\n",
    "    # Initialize conformal prediction methods, along with accumulators for results\n",
    "    print(\"Initialize conformal prediction methods, along with accumulators for results\")\n",
    "    lmbda, k_reg, n_class = raps_params(args.dataset)\n",
    "    D_old = 1 + lmbda * np.sqrt(n_class - k_reg)\n",
    "    D = 1*D_old\n",
    "    methods_iterate = [SimpleOGD, MagnitudeLearnerV2, SplitConformal, NExConformal, FACI, ScaleFreeOGD, FACI_S, SAOCP, MagnitudeLearner, MagLearnUndiscounted]\n",
    "    #methods = [SplitConformal]\n",
    "    label2err = defaultdict(list)\n",
    "    h = 5 + 0.5 * (len(methods_iterate) > 5)\n",
    "    np.random.seed(0)\n",
    "    num_trials = 10\n",
    "    elasped_time = np.zeros(num_trials,)\n",
    "    time_simpleogd = np.zeros_like(elasped_time)\n",
    "    for method_ in methods_iterate:\n",
    "        methods = [method_]\n",
    "        print(\"Current method: \", method_.__name__)\n",
    "        for jj in range(num_trials):\n",
    "            for i_shift, shift in enumerate([\"sudden\"]):\n",
    "                sevs, s_opts, w_opts = [], [], []\n",
    "                # warmup, window, run_length = 1000, 100, 500 # original code\n",
    "                warmup, window, run_length = 1000, 25, 1000 # our code\n",
    "                state = np.random.RandomState(0)\n",
    "                order = state.permutation(n_data)[: 6 * run_length + window // 2 + warmup]\n",
    "                coverages, s_hats, widths = [{m.__name__: [] for m in methods} for _ in range(3)]\n",
    "                predictors = [m(None, None, max_scale = D, lifetime = 32, coverage = args.target_cov) for m in methods]\n",
    "                t_vec = np.zeros(len(order))\n",
    "                start_time = time.time()\n",
    "                for t, i in tqdm.tqdm(enumerate(order, start=-warmup), total=len(order)):\n",
    "                    # Get saved results for the desired severity\n",
    "                    sev = t_to_sev(t, window=window, schedule = shift)\n",
    "                    probs, label = sev2results[sev][state.randint(0, len(sev2results[sev]))][i]\n",
    "\n",
    "                    # Convert probability to APS score\n",
    "                    i_sort = np.flip(np.argsort(probs))\n",
    "                    p_sort_cumsum = np.cumsum(probs[i_sort]) - state.rand() * probs[i_sort]\n",
    "                    s_sort_cumsum = p_sort_cumsum + lmbda * np.sqrt(np.cumsum([i > k_reg for i in range(n_class)]))\n",
    "                    w_opt = np.argsort(i_sort)[label] + 1\n",
    "                    s_opt = s_sort_cumsum[w_opt - 1]\n",
    "                    if t >= 0:\n",
    "                        sevs.append(sev)\n",
    "                        s_opts.append(s_opt)\n",
    "                        w_opts.append(w_opt)\n",
    "                        t_vec[t] = t\n",
    "\n",
    "                    # Update all the conformal predictors\n",
    "                    for predictor in predictors:\n",
    "                        name = type(predictor).__name__\n",
    "                        if t >= 0:\n",
    "                            _, s_hat = predictor.predict(horizon=1)\n",
    "                            w = np.sum(s_sort_cumsum <= s_hat)\n",
    "                            s_hats[name].append(s_hat)\n",
    "                            widths[name].append(w)\n",
    "                            coverages[name].append(w >= w_opt)\n",
    "                        predictor.update(ground_truth=pd.Series([s_opt]), forecast=pd.Series([0]), horizon=1)\n",
    "                #print(\"Total timesteps:\", t)\n",
    "                elasped_time[jj] = time.time() - start_time\n",
    "                if method_.__name__ == \"SimpleOGD\":\n",
    "                    time_simpleogd[jj] = elasped_time[jj]\n",
    "                # Perform evaluation & produce a pretty graph\n",
    "                plot_loss = False\n",
    "\n",
    "                s_opts = np.asarray(s_opts)\n",
    "                int_q = pd.Series(s_opts).rolling(window).quantile(args.target_cov).dropna()\n",
    "                #print(f\"Distribution shift: {shift}\")\n",
    "                if jj == num_trials-1:\n",
    "                    for i, m in enumerate(methods):\n",
    "                    # Compute various summary statistics\n",
    "                        name = m.__name__ # name of the method (OGD, SAOCP, etc.)\n",
    "                        label = sub(\"Split\", \"S\", sub(\"Conformal\", \"CP\", sub(\"ScaleFree\", \"SF-\", sub(\"_\", \"-\", name))))\n",
    "                        s_hat = np.asarray(s_hats[name])\n",
    "                        int_cov = gaussian_filter1d(pd.Series(coverages[name]).rolling(window).mean().dropna(), sigma=3)\n",
    "                        int_w = pd.Series(s_hats[name] if plot_loss else widths[name]).rolling(window).mean().dropna()\n",
    "                        int_losses = pd.Series(pinball_loss(s_opts, s_hat, args.target_cov)).rolling(window).mean().dropna()\n",
    "                        opts = [pinball_loss(s_opts[i : i + window], q, args.target_cov).mean() for i, q in enumerate(int_q)]\n",
    "                        int_regret = int_losses.values - np.asarray(opts)\n",
    "                        int_miscov = np.abs(args.target_cov - int_cov)\n",
    "\n",
    "                        # Do the plotting\n",
    "                        label2err[label].append(f\"{np.max(int_miscov):.2f}\")\n",
    "                        mean_time_simpleogd = np.mean(time_simpleogd)\n",
    "                        print(\n",
    "                            f\"{name:15}: \"\n",
    "                            f\"Cov: {np.mean(coverages[name]):.3f}, \"\n",
    "                            f\"Avg Width: {np.mean(widths[name]):.1f}, \"\n",
    "                            f\"Avg Miscov: {np.mean(int_miscov):.3f}, \"\n",
    "                            f\"Avg Regret: {np.mean(int_regret):.4f}, \"\n",
    "                            f\"Avg. Runtime (n=10): {(np.mean(elasped_time))/mean_time_simpleogd:.6f}, \"\n",
    "                            f\"Std. Runtime (n=10): {(np.std(elasped_time))/mean_time_simpleogd:.6f}, \"\n",
    "                            f\"LCEk: {np.max(int_miscov):.2f},\"\n",
    "                        )"
   ]
  },
  {
   "cell_type": "markdown",
   "metadata": {},
   "source": []
  }
 ],
 "metadata": {
  "kernelspec": {
   "display_name": "env",
   "language": "python",
   "name": "python3"
  },
  "language_info": {
   "codemirror_mode": {
    "name": "ipython",
    "version": 3
   },
   "file_extension": ".py",
   "mimetype": "text/x-python",
   "name": "python",
   "nbconvert_exporter": "python",
   "pygments_lexer": "ipython3",
   "version": "3.10.12"
  }
 },
 "nbformat": 4,
 "nbformat_minor": 2
}
