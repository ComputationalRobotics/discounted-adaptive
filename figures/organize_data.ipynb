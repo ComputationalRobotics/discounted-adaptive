{
 "cells": [
  {
   "cell_type": "code",
   "execution_count": 3,
   "metadata": {},
   "outputs": [],
   "source": [
    "import csv\n",
    "from collections import defaultdict\n",
    "\n",
    "# Define the filepath of the input CSV file\n",
    "input_filepath = \"/Users/davidbombara/Documents/ComputationalRoboticsCode/discounted-adaptive/figures/TinyImageNet_allD.csv\"\n",
    "\n",
    "# Define the filepath of the output CSV file\n",
    "output_filepath = \"/Users/davidbombara/Documents/ComputationalRoboticsCode/discounted-adaptive/figures/grouped_data.csv\"\n",
    "\n",
    "# Create a dictionary to store the grouped data\n",
    "grouped_data = defaultdict(list)\n"
   ]
  },
  {
   "cell_type": "code",
   "execution_count": 3,
   "metadata": {},
   "outputs": [],
   "source": [
    "\n",
    "# Read the input CSV file\n",
    "with open(input_filepath, \"r\") as input_file:\n",
    "    csv_reader = csv.DictReader(input_file)\n",
    "    for row in csv_reader:\n",
    "        distribution = row[\"Distribution\"]\n",
    "        method = row[\"Method\"]\n",
    "        grouped_data[distribution].append(row)\n"
   ]
  },
  {
   "cell_type": "code",
   "execution_count": 4,
   "metadata": {},
   "outputs": [],
   "source": [
    "\n",
    "# Write the grouped data to the output CSV file\n",
    "with open(output_filepath, \"w\", newline=\"\") as output_file:\n",
    "    fieldnames = csv_reader.fieldnames\n",
    "    csv_writer = csv.DictWriter(output_file, fieldnames=fieldnames)\n",
    "    csv_writer.writeheader()\n",
    "    for distribution, rows in grouped_data.items():\n",
    "        csv_writer.writerows(rows)\n"
   ]
  },
  {
   "cell_type": "code",
   "execution_count": 5,
   "metadata": {},
   "outputs": [],
   "source": [
    "import pandas as pd\n",
    "import csv\n",
    "from collections import defaultdict\n",
    "\n",
    "# Read the original CSV file\n",
    "df = \"/Users/davidbombara/Documents/ComputationalRoboticsCode/discounted-adaptive/figures/grouped_data_sudden.csv\"\n",
    "# Define the filepath of the output CSV file\n",
    "output_filepath = \"/Users/davidbombara/Documents/ComputationalRoboticsCode/discounted-adaptive/figures/grouped_data_sudden_method.csv\"\n",
    "\n",
    "# Create a dictionary to store the grouped data\n",
    "grouped_data = defaultdict(list)\n",
    "# Read the input CSV file\n",
    "with open(df, \"r\") as input_file:\n",
    "    csv_reader = csv.DictReader(input_file)\n",
    "    for row in csv_reader:\n",
    "        #distribution = row[\"Distribution\"]\n",
    "        method = row[\"Method\"]\n",
    "        grouped_data[method].append(row)\n",
    "\n",
    "# Write the grouped data to the output CSV file\n",
    "with open(output_filepath, \"w\", newline=\"\") as output_file:\n",
    "    fieldnames = csv_reader.fieldnames\n",
    "    csv_writer = csv.DictWriter(output_file, fieldnames=fieldnames)\n",
    "    csv_writer.writeheader()\n",
    "    for method, rows in grouped_data.items():\n",
    "        csv_writer.writerows(rows)"
   ]
  }
 ],
 "metadata": {
  "kernelspec": {
   "display_name": "env",
   "language": "python",
   "name": "python3"
  },
  "language_info": {
   "codemirror_mode": {
    "name": "ipython",
    "version": 3
   },
   "file_extension": ".py",
   "mimetype": "text/x-python",
   "name": "python",
   "nbconvert_exporter": "python",
   "pygments_lexer": "ipython3",
   "version": "3.11.3"
  }
 },
 "nbformat": 4,
 "nbformat_minor": 2
}
