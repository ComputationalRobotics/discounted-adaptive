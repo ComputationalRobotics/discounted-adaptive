{
 "cells": [
  {
   "cell_type": "code",
   "execution_count": 19,
   "metadata": {},
   "outputs": [
    {
     "name": "stdout",
     "output_type": "stream",
     "text": [
      "21    ScaleFreeOGD\n",
      "22    ScaleFreeOGD\n",
      "23    ScaleFreeOGD\n",
      "24    ScaleFreeOGD\n",
      "25    ScaleFreeOGD\n",
      "26    ScaleFreeOGD\n",
      "27    ScaleFreeOGD\n",
      "Name: Method, dtype: object\n",
      "28    SimpleOGD\n",
      "29    SimpleOGD\n",
      "30    SimpleOGD\n",
      "31    SimpleOGD\n",
      "32    SimpleOGD\n",
      "33    SimpleOGD\n",
      "34    SimpleOGD\n",
      "Name: Method, dtype: object\n",
      "35    FACI_S\n",
      "36    FACI_S\n",
      "37    FACI_S\n",
      "38    FACI_S\n",
      "39    FACI_S\n",
      "40    FACI_S\n",
      "41    FACI_S\n",
      "Name: Method, dtype: object\n",
      "42    SAOCP\n",
      "43    SAOCP\n",
      "44    SAOCP\n",
      "45    SAOCP\n",
      "46    SAOCP\n",
      "47    SAOCP\n",
      "48    SAOCP\n",
      "Name: Method, dtype: object\n",
      "49    MagnitudeLearner\n",
      "50    MagnitudeLearner\n",
      "51    MagnitudeLearner\n",
      "52    MagnitudeLearner\n",
      "53    MagnitudeLearner\n",
      "54    MagnitudeLearner\n",
      "55    MagnitudeLearner\n",
      "Name: Method, dtype: object\n",
      "56    MagLearnUndiscounted\n",
      "57    MagLearnUndiscounted\n",
      "58    MagLearnUndiscounted\n",
      "59    MagLearnUndiscounted\n",
      "60    MagLearnUndiscounted\n",
      "61    MagLearnUndiscounted\n",
      "62    MagLearnUndiscounted\n",
      "Name: Method, dtype: object\n"
     ]
    }
   ],
   "source": [
    "import matplotlib.pyplot as plt\n",
    "import pandas as pd\n",
    "import numpy as np\n",
    "\n",
    "# Set matplotlib default styles\n",
    "plt.rcParams['font.family'] = 'Computer Modern'  \n",
    "plt.rcParams['text.usetex'] = True\n",
    "\n",
    "# Read in data\n",
    "df = pd.read_csv('grouped_data_sudden_method.csv')\n",
    "\n",
    "# Define constants \n",
    "metrics = [\"Coverage\", \"Avg. Width\", \"Avg. Miscoverage\", \"Avg. Regret\"]\n",
    "methods_abbr = [\"SplitConformal\",\"NExConformal\",\"FACI\", \n",
    "                \"ScaleFreeOGD\", \"SimpleOGD\", \"FACI_S\", \n",
    "                \"SAOCP\", \"MagnitudeLearner\",\"MagLearnUndiscounted\"]\n",
    "D = [1e-3, 1e-2, 1e-1, 1e0, 1e1, 1e2, 1e3]\n",
    "idx_toplot = [4,5,7,8,9] \n",
    "\n",
    "# print(df.Method[0:7]) # Split Conformal\n",
    "# print(df.Method[6:14]) # NExConformal\n",
    "# print(df.Method[14:21]) # FACI\n",
    "print(df.Method[21:28]) # ScaleFreeOGD\n",
    "print(df.Method[28:35]) # SimpleOGD\n",
    "print(df.Method[35:42]) # FACI_S\n",
    "print(df.Method[42:49]) # SAOCP\n",
    "print(df.Method[49:56]) # MagnitudeLearner\n",
    "print(df.Method[56:63]) # MagLearnUndiscounted"
   ]
  }
 ],
 "metadata": {
  "kernelspec": {
   "display_name": "env",
   "language": "python",
   "name": "python3"
  },
  "language_info": {
   "codemirror_mode": {
    "name": "ipython",
    "version": 3
   },
   "file_extension": ".py",
   "mimetype": "text/x-python",
   "name": "python",
   "nbconvert_exporter": "python",
   "pygments_lexer": "ipython3",
   "version": "3.10.12"
  }
 },
 "nbformat": 4,
 "nbformat_minor": 2
}
