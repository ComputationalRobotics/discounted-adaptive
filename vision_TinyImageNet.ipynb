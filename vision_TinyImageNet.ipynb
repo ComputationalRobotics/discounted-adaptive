{
 "cells": [
  {
   "cell_type": "code",
   "execution_count": 11,
   "metadata": {},
   "outputs": [],
   "source": [
    "#\n",
    "# Copyright (c) 2023 salesforce.com, inc.\n",
    "# All rights reserved.\n",
    "# SPDX-License-Identifier: Apache-2.0\n",
    "# For full license text, see the LICENSE file in the repo root or https://opensource.org/licenses/Apache-2.0\n",
    "#\n",
    "\"\"\"\n",
    "File for running all computer vision experiments.\n",
    "\"\"\"\n",
    "import argparse\n",
    "from collections import defaultdict\n",
    "import math\n",
    "import os\n",
    "from re import sub\n",
    "\n",
    "import matplotlib.pyplot as plt\n",
    "import numpy as np\n",
    "import pandas as pd\n",
    "from scipy.ndimage import gaussian_filter1d\n",
    "import torch\n",
    "import torch.distributed as dist\n",
    "import torch.nn as nn\n",
    "import torch.nn.functional as F\n",
    "from torch.optim import Adam, LBFGS, SGD\n",
    "import tqdm\n",
    "\n",
    "# Our new algorithm\n",
    "from online_conformal.magnitude_learner import MagnitudeLearner\n",
    "from online_conformal.mag_learner_undiscounted import MagLearnUndiscounted\n",
    "from online_conformal.ogd_simple import SimpleOGD\n",
    "\n",
    "# From previous work\n",
    "from online_conformal.saocp import SAOCP\n",
    "from online_conformal.faci import FACI, FACI_S\n",
    "from online_conformal.nex_conformal import NExConformal\n",
    "from online_conformal.ogd import ScaleFreeOGD\n",
    "from online_conformal.split_conformal import SplitConformal\n",
    "from online_conformal.utils import pinball_loss\n",
    "from cv_utils import create_model, data_loader\n",
    "from cv_utils import ImageNet, TinyImageNet, CIFAR10, CIFAR100, ImageNetC, TinyImageNetC, CIFAR10C, CIFAR100C\n",
    "\n",
    "import time"
   ]
  },
  {
   "cell_type": "code",
   "execution_count": 12,
   "metadata": {},
   "outputs": [],
   "source": [
    "__file__ = \"vision.ipynb\""
   ]
  },
  {
   "cell_type": "code",
   "execution_count": 13,
   "metadata": {},
   "outputs": [
    {
     "name": "stdout",
     "output_type": "stream",
     "text": [
      "args_local_rank =  -1\n",
      "args.devices =  cpu\n"
     ]
    },
    {
     "data": {
      "text/plain": [
       "argparse.Namespace"
      ]
     },
     "execution_count": 13,
     "metadata": {},
     "output_type": "execute_result"
    }
   ],
   "source": [
    "\n",
    "corruptions = [\n",
    "    None,\n",
    "    \"brightness\",\n",
    "    \"contrast\",\n",
    "    \"defocus_blur\",\n",
    "    \"elastic_transform\",\n",
    "    \"fog\",\n",
    "    \"frost\",\n",
    "    \"gaussian_noise\",\n",
    "    \"glass_blur\",\n",
    "    \"impulse_noise\",\n",
    "    \"jpeg_compression\",\n",
    "    \"motion_blur\",\n",
    "    \"pixelate\",\n",
    "    \"shot_noise\",\n",
    "    \"snow\",\n",
    "    \"zoom_blur\",\n",
    "]\n",
    "\n",
    "def parse_args():\n",
    "    args = argparse.Namespace\n",
    "    args.dataset = \"TinyImageNet\"\n",
    "    args.model = \"resnet50\"\n",
    "    args.lr = 1e-3\n",
    "    args.batch_size = 256\n",
    "    args.n_epochs = 150 #default = 150\n",
    "    args.patience = 10\n",
    "    #args.ignore_checkpoint = \"store_true\"\n",
    "    args.target_cov = 90\n",
    "    args.ignore_checkpoint = True\n",
    "\n",
    "    assert 50 < args.target_cov < 100\n",
    "    args.target_cov = args.target_cov / 100\n",
    "\n",
    "    # Set up distributed training if desired, and set the device\n",
    "    args.local_rank = int(os.environ.get(\"LOCAL_RANK\", -1))\n",
    "    print(\"args_local_rank = \", args.local_rank)\n",
    "    if args.local_rank == -1:\n",
    "        if torch.cuda.is_available():\n",
    "            args.device = torch.device(\"cuda\")\n",
    "        else:\n",
    "            args.device = torch.device(\"cpu\")\n",
    "        args.world_size = 1\n",
    "    else:\n",
    "        dist.init_process_group(backend=\"nccl\")\n",
    "        args.device = torch.device(args.local_rank)\n",
    "        args.world_size = dist.get_world_size()\n",
    "    print(\"args.devices = \", args.device)\n",
    "        \n",
    "    return args\n",
    "\n",
    "parse_args()"
   ]
  },
  {
   "cell_type": "code",
   "execution_count": 14,
   "metadata": {},
   "outputs": [],
   "source": [
    "def get_base_dataset(dataset, split):\n",
    "    if dataset == \"ImageNet\":\n",
    "        return ImageNet(split)\n",
    "    elif dataset == \"TinyImageNet\":\n",
    "        return TinyImageNet(split)\n",
    "    elif dataset == \"CIFAR10\":\n",
    "        return CIFAR10(split)\n",
    "    elif dataset == \"CIFAR100\":\n",
    "        return CIFAR100(split)\n",
    "    raise ValueError(f\"Dataset {dataset} is not supported.\")\n",
    "\n",
    "\n",
    "def get_model_file(args):\n",
    "    rootdir = os.path.dirname(os.path.abspath(__file__))\n",
    "    return os.path.join(rootdir, \"cv_models\", args.dataset, args.model, \"model.pt\")\n",
    "\n",
    "\n",
    "def get_model(args):\n",
    "    if args.dataset != \"ImageNet\":\n",
    "        return torch.load(get_model_file(args), map_location=args.device)\n",
    "    return create_model(dataset=ImageNet(\"valid\"), model_name=args.model, device=args.device)\n",
    "\n",
    "\n",
    "def get_results_file(args, corruption, severity):\n",
    "    rootdir = os.path.dirname(os.path.abspath(__file__))\n",
    "    return os.path.join(rootdir, \"cv_logits\", args.dataset, args.model, f\"{corruption}_{severity}.pt\")\n",
    "\n",
    "def get_temp_file(args):\n",
    "    return os.path.join(os.path.dirname(get_results_file(args, None, 0)), \"temp.txt\")\n",
    "\n",
    "\n",
    "def finished(args):\n",
    "    for corruption in corruptions:\n",
    "        for severity in [0] if corruption is None else [1, 2, 3, 4, 5]:\n",
    "            fname = get_results_file(args, corruption, severity)\n",
    "            if not os.path.isfile(fname):\n",
    "                return False\n",
    "    return os.path.isfile(get_temp_file(args))\n",
    "\n",
    "def raps_params(dataset):\n",
    "    if dataset == \"CIFAR10\":\n",
    "        lmbda, k_reg, n_class = 0.1, 1, 10\n",
    "    elif dataset == \"CIFAR100\":\n",
    "        lmbda, k_reg, n_class = 0.02, 5, 100\n",
    "    elif dataset == \"TinyImageNet\":\n",
    "        lmbda, k_reg, n_class = 0.01, 20, 200\n",
    "    elif dataset == \"ImageNet\":\n",
    "        lmbda, k_reg, n_class = 0.01, 10, 1000\n",
    "    else:\n",
    "        raise ValueError(f\"Unsupported dataset {dataset}\")\n",
    "    return lmbda, k_reg, n_class\n",
    "\n",
    "\n",
    "def train(args):\n",
    "    # Get train/valid data\n",
    "    print(\"Getting training and validation data\")\n",
    "    train_data = get_base_dataset(args.dataset, \"train\")\n",
    "    valid_data = get_base_dataset(args.dataset, \"valid\")\n",
    "\n",
    "    # Load model checkpoint one has been saved. Otherwise, initialize everything from scratch.\n",
    "    print(\"Load model checkpoint one has been saved. Otherwise, initialize everything from scratch.\")\n",
    "    model_file = get_model_file(args)\n",
    "    ckpt_name = os.path.join(os.path.dirname(model_file), \"checkpoint.pt\")\n",
    "    if os.path.isfile(ckpt_name) and not args.ignore_checkpoint:\n",
    "        model, opt, epoch, best_epoch, best_valid_acc = torch.load(ckpt_name, map_location=args.device)\n",
    "    else:\n",
    "        # create save directory if needed\n",
    "        print(\"Create a save directory if needed\")\n",
    "        if args.local_rank in [-1, 0]:\n",
    "            os.makedirs(os.path.dirname(ckpt_name), exist_ok=True)\n",
    "        model = create_model(dataset=train_data, model_name=args.model, device=args.device)\n",
    "        if \"ImageNet\" in args.dataset:\n",
    "            opt = SGD(model.parameters(), lr=0.1, momentum=0.9)\n",
    "        else:\n",
    "            opt = Adam(model.parameters(), lr=args.lr)\n",
    "        epoch, best_epoch, best_valid_acc = 0, 0, 0.0\n",
    "\n",
    "    # Set up distributed data parallel if applicable\n",
    "    print(\"Set up distributed data parallel if applicable\")\n",
    "    writer = args.local_rank in [-1, 0]\n",
    "    if args.local_rank != -1:\n",
    "        model = nn.parallel.DistributedDataParallel(model, device_ids=[args.device])\n",
    "\n",
    "    for epoch in range(epoch, args.n_epochs):\n",
    "        # Check early stopping condition\n",
    "        print(\"Check early stopping condition\")\n",
    "        if args.patience and epoch - best_epoch > args.patience:\n",
    "            break\n",
    "\n",
    "        # Main training loop\n",
    "        print(\"Main training loop\")\n",
    "        train_loader = data_loader(dataset=train_data, batch_size=args.batch_size // args.world_size, epoch=epoch)\n",
    "        for x, y in tqdm.tqdm(train_loader, desc=f\"Train epoch {epoch+1:2}/{args.n_epochs}\", disable=not writer):\n",
    "            opt.zero_grad()\n",
    "            pred = model(x.to(device=args.device))\n",
    "            loss = F.cross_entropy(pred, y.to(device=args.device))\n",
    "            loss.backward()\n",
    "            opt.step()\n",
    "\n",
    "        # Anneal learning rate by a factor of 10 every 7 epochs\n",
    "        print(\"Anneal learning rate by a factor of 10 every 7 epochs\")\n",
    "        if (epoch + 1) % 7 == 0:\n",
    "            for g in opt.param_groups:\n",
    "                g[\"lr\"] *= 0.1\n",
    "\n",
    "        # Obtain accuracy on the validation dataset\n",
    "        print(\"Obtain accuracy on the validation dataset\")\n",
    "        valid_acc = torch.zeros(2, device=args.device)\n",
    "        valid_loader = data_loader(valid_data, batch_size=args.batch_size, epoch=epoch)\n",
    "        with torch.no_grad():\n",
    "            for x, y in tqdm.tqdm(valid_loader, desc=f\"Valid epoch {epoch + 1:2}/{args.n_epochs}\", disable=True):\n",
    "                pred = model(x.to(device=args.device))\n",
    "                valid_acc[0] += x.shape[0]\n",
    "                valid_acc[1] += (pred.argmax(dim=-1) == y.to(device=args.device)).sum().item()\n",
    "\n",
    "        # Reduce results from all parallel processes\n",
    "        print(\"Reduce results from all parallel processes\")\n",
    "        if args.local_rank != -1:\n",
    "            dist.all_reduce(valid_acc)\n",
    "        valid_acc = (valid_acc[1] / valid_acc[0]).item()\n",
    "\n",
    "        # Save checkpoint & update best saved model\n",
    "        print(\"Save checkpoints and update best saved model\")\n",
    "        if writer:\n",
    "            print(f\"Epoch {epoch + 1:2} valid acc: {valid_acc:.5f}\")\n",
    "            model_to_save = model.module if args.local_rank != -1 else model\n",
    "            if valid_acc > best_valid_acc:\n",
    "                best_epoch = epoch\n",
    "                best_valid_acc = valid_acc\n",
    "                torch.save(model_to_save, model_file)\n",
    "            torch.save([model_to_save, opt, epoch + 1, best_epoch, best_valid_acc], ckpt_name)\n",
    "\n",
    "        # Synchronize before starting next epoch\n",
    "        print(\"Synchronize before starting next epoch\")\n",
    "        if args.local_rank != -1:\n",
    "            dist.barrier()\n",
    "\n",
    "\n",
    "def temperature_scaling(args):\n",
    "    temp = nn.Parameter(torch.tensor(1.0, device=args.device))\n",
    "    opt = LBFGS([temp], lr=0.01, max_iter=500)\n",
    "    loss_fn = nn.CrossEntropyLoss()\n",
    "\n",
    "    n_epochs = 10\n",
    "    valid_data = get_base_dataset(args.dataset, \"valid\")\n",
    "    model = get_model(args)\n",
    "    for epoch in range(n_epochs):\n",
    "        valid_loader = data_loader(valid_data, batch_size=args.batch_size, epoch=epoch)\n",
    "        for x, y in tqdm.tqdm(valid_loader, desc=f\"Calibration epoch {epoch + 1:2}/{n_epochs}\", disable=False):\n",
    "            with torch.no_grad():\n",
    "                logits = model(x.to(device=args.device))\n",
    "\n",
    "            def eval():\n",
    "                opt.zero_grad()\n",
    "                loss = loss_fn(logits / temp, y.to(device=args.device))\n",
    "                loss.backward()\n",
    "                return loss\n",
    "\n",
    "            opt.step(eval)\n",
    "\n",
    "    return temp.item()\n",
    "\n",
    "\n",
    "def get_logits(args):\n",
    "    if args.dataset == \"CIFAR10\":\n",
    "        dataset_cls = CIFAR10C\n",
    "    elif args.dataset == \"CIFAR100\":\n",
    "        dataset_cls = CIFAR100C\n",
    "    elif args.dataset == \"TinyImageNet\":\n",
    "        dataset_cls = TinyImageNetC\n",
    "    elif args.dataset == \"ImageNet\":\n",
    "        dataset_cls = ImageNetC\n",
    "    else:\n",
    "        raise ValueError(f\"Dataset {args.dataset} is not supported.\")\n",
    "    model = None\n",
    "    print(\"Dataset: \", dataset_cls)\n",
    "\n",
    "    print(\"Applying corruptions: \", corruptions)\n",
    "    for corruption in tqdm.tqdm(corruptions, desc=\"Corruptions\", position=1):\n",
    "        print(\"Corruption: \", corruption)\n",
    "        severities = [0] if corruption is None else [1, 2, 3, 4, 5]\n",
    "        print(\"Applying various severity levels: \", severities)\n",
    "        for severity in tqdm.tqdm(severities, desc=\"Severity Levels\", position=2, leave=False):\n",
    "            print(\"Severity: \", severity)\n",
    "            fname = get_results_file(args, corruption, severity)\n",
    "            if os.path.isfile(fname) and not args.ignore_checkpoint:\n",
    "                continue\n",
    "            os.makedirs(os.path.dirname(fname), exist_ok=True)\n",
    "            if model is None:\n",
    "                model = get_model(args)\n",
    "\n",
    "            # Save the model's logits & labels for the whole dataset\n",
    "            print(\"Save the model's logits & labels for the whole dataset\")\n",
    "            logits, labels = [], []\n",
    "            dataset = dataset_cls(corruption=corruption, severity=severity)\n",
    "            loader = data_loader(dataset, batch_size=args.batch_size)\n",
    "            with torch.no_grad():\n",
    "                for x, y in loader:\n",
    "                    logits.append(model(x.to(device=args.device)).cpu())\n",
    "                    labels.append(y.cpu())\n",
    "            torch.save([torch.cat(logits), torch.cat(labels)], fname)\n",
    "\n",
    "\n",
    "def t_to_sev(t, window, run_length=500, schedule=None):\n",
    "    if t < window or schedule in [None, \"None\", \"none\"]:\n",
    "        return 0\n",
    "    t_base = t - window // 2\n",
    "    if schedule == \"gradual\":\n",
    "        k = (t_base // run_length) % 10\n",
    "        return k if k <= 5 else 10 - k\n",
    "    if schedule == \"random_sudden\":\n",
    "        #return np.random.randint(0, 5) * ((t_base // run_length) % 2)\n",
    "        return np.clip(np.random.randint(0, 10) * ((t_base // run_length) % 2),0,5)\n",
    "    if schedule == \"random_gradual\":\n",
    "        k = (((t_base* abs(np.random.uniform(1,1.5))) // run_length) % 10 ) \n",
    "        return (k if k <= 5 else 10 - k) * np.random.randint(1,2) \n",
    "    return 5 * ((t_base // run_length) % 2) # default: sudden schedule"
   ]
  },
  {
   "cell_type": "code",
   "execution_count": 15,
   "metadata": {},
   "outputs": [
    {
     "name": "stdout",
     "output_type": "stream",
     "text": [
      "Train the model, save its logits on all the corrupted test datasets, and do temperature scaling\n",
      "args_local_rank =  -1\n",
      "args.devices =  cpu\n",
      "Getting temp file...\n",
      "Done\n",
      "Load the saved logits\n",
      "Initialize conformal prediction methods, along with accumulators for results\n"
     ]
    },
    {
     "name": "stderr",
     "output_type": "stream",
     "text": [
      "100%|██████████| 7012/7012 [00:00<00:00, 9410.94it/s]\n",
      "/Users/davidbombara/Documents/ComputationalRoboticsCode/discounted-adaptive/env/lib/python3.11/site-packages/numpy/core/fromnumeric.py:3504: RuntimeWarning: Mean of empty slice.\n",
      "  return _methods._mean(a, axis=axis, dtype=dtype,\n",
      "/Users/davidbombara/Documents/ComputationalRoboticsCode/discounted-adaptive/env/lib/python3.11/site-packages/numpy/core/_methods.py:129: RuntimeWarning: invalid value encountered in scalar divide\n",
      "  ret = ret.dtype.type(ret / rcount)\n",
      "/Users/davidbombara/Documents/ComputationalRoboticsCode/discounted-adaptive/env/lib/python3.11/site-packages/numpy/core/_methods.py:206: RuntimeWarning: Degrees of freedom <= 0 for slice\n",
      "  ret = _var(a, axis=axis, dtype=dtype, out=out, ddof=ddof,\n",
      "/Users/davidbombara/Documents/ComputationalRoboticsCode/discounted-adaptive/env/lib/python3.11/site-packages/numpy/core/_methods.py:163: RuntimeWarning: invalid value encountered in divide\n",
      "  arrmean = um.true_divide(arrmean, div, out=arrmean,\n",
      "/Users/davidbombara/Documents/ComputationalRoboticsCode/discounted-adaptive/env/lib/python3.11/site-packages/numpy/core/_methods.py:198: RuntimeWarning: invalid value encountered in scalar divide\n",
      "  ret = ret.dtype.type(ret / rcount)\n"
     ]
    },
    {
     "name": "stdout",
     "output_type": "stream",
     "text": [
      "Distribution shift: sudden\n",
      "SimpleOGD      : Cov: 0.899, Avg Width: 125.0, Avg Miscov: 0.041, Avg Regret: 0.0031, Avg. Runtime (n=100): nan, Std. Runtime (n=100): nan, Iteration: 0\n"
     ]
    },
    {
     "name": "stderr",
     "output_type": "stream",
     "text": [
      "100%|██████████| 7012/7012 [00:01<00:00, 6852.25it/s]\n"
     ]
    },
    {
     "name": "stdout",
     "output_type": "stream",
     "text": [
      "Distribution shift: sudden\n",
      "SimpleOGD      : Cov: 0.899, Avg Width: 125.0, Avg Miscov: 0.041, Avg Regret: 0.0031, Avg. Runtime (n=100): 0.746326, Std. Runtime (n=100): 0.000000, Iteration: 1\n"
     ]
    },
    {
     "name": "stderr",
     "output_type": "stream",
     "text": [
      "100%|██████████| 7012/7012 [00:00<00:00, 8760.74it/s]\n"
     ]
    },
    {
     "name": "stdout",
     "output_type": "stream",
     "text": [
      "Distribution shift: sudden\n",
      "SimpleOGD      : Cov: 0.899, Avg Width: 125.0, Avg Miscov: 0.041, Avg Regret: 0.0031, Avg. Runtime (n=100): 0.885495, Std. Runtime (n=100): 0.139169, Iteration: 2\n"
     ]
    },
    {
     "name": "stderr",
     "output_type": "stream",
     "text": [
      "100%|██████████| 7012/7012 [00:01<00:00, 6916.00it/s]\n"
     ]
    },
    {
     "name": "stdout",
     "output_type": "stream",
     "text": [
      "Distribution shift: sudden\n",
      "SimpleOGD      : Cov: 0.899, Avg Width: 125.0, Avg Miscov: 0.041, Avg Regret: 0.0031, Avg. Runtime (n=100): 0.857522, Std. Runtime (n=100): 0.120320, Iteration: 3\n"
     ]
    },
    {
     "name": "stderr",
     "output_type": "stream",
     "text": [
      "100%|██████████| 7012/7012 [00:00<00:00, 8375.30it/s]\n"
     ]
    },
    {
     "name": "stdout",
     "output_type": "stream",
     "text": [
      "Distribution shift: sudden\n",
      "SimpleOGD      : Cov: 0.899, Avg Width: 125.0, Avg Miscov: 0.041, Avg Regret: 0.0031, Avg. Runtime (n=100): 0.896918, Std. Runtime (n=100): 0.124554, Iteration: 4\n"
     ]
    },
    {
     "name": "stderr",
     "output_type": "stream",
     "text": [
      "100%|██████████| 7012/7012 [00:00<00:00, 8830.10it/s] \n"
     ]
    },
    {
     "name": "stdout",
     "output_type": "stream",
     "text": [
      "Distribution shift: sudden\n",
      "SimpleOGD      : Cov: 0.899, Avg Width: 125.0, Avg Miscov: 0.041, Avg Regret: 0.0031, Avg. Runtime (n=100): 0.885249, Std. Runtime (n=100): 0.113823, Iteration: 5\n"
     ]
    },
    {
     "name": "stderr",
     "output_type": "stream",
     "text": [
      "100%|██████████| 7012/7012 [00:01<00:00, 6630.75it/s]\n"
     ]
    },
    {
     "name": "stdout",
     "output_type": "stream",
     "text": [
      "Distribution shift: sudden\n",
      "SimpleOGD      : Cov: 0.899, Avg Width: 125.0, Avg Miscov: 0.041, Avg Regret: 0.0031, Avg. Runtime (n=100): 0.870261, Std. Runtime (n=100): 0.109177, Iteration: 6\n"
     ]
    },
    {
     "name": "stderr",
     "output_type": "stream",
     "text": [
      "100%|██████████| 7012/7012 [00:00<00:00, 8852.87it/s]\n"
     ]
    },
    {
     "name": "stdout",
     "output_type": "stream",
     "text": [
      "Distribution shift: sudden\n",
      "SimpleOGD      : Cov: 0.899, Avg Width: 125.0, Avg Miscov: 0.041, Avg Regret: 0.0031, Avg. Runtime (n=100): 0.897206, Std. Runtime (n=100): 0.120719, Iteration: 7\n"
     ]
    },
    {
     "name": "stderr",
     "output_type": "stream",
     "text": [
      "100%|██████████| 7012/7012 [00:00<00:00, 9038.39it/s]\n"
     ]
    },
    {
     "name": "stdout",
     "output_type": "stream",
     "text": [
      "Distribution shift: sudden\n",
      "SimpleOGD      : Cov: 0.899, Avg Width: 125.0, Avg Miscov: 0.041, Avg Regret: 0.0031, Avg. Runtime (n=100): 0.884421, Std. Runtime (n=100): 0.117880, Iteration: 8\n"
     ]
    },
    {
     "name": "stderr",
     "output_type": "stream",
     "text": [
      "100%|██████████| 7012/7012 [00:00<00:00, 9210.56it/s]\n"
     ]
    },
    {
     "name": "stdout",
     "output_type": "stream",
     "text": [
      "Distribution shift: sudden\n",
      "SimpleOGD      : Cov: 0.899, Avg Width: 125.0, Avg Miscov: 0.041, Avg Regret: 0.0031, Avg. Runtime (n=100): 0.872475, Std. Runtime (n=100): 0.116161, Iteration: 9\n"
     ]
    },
    {
     "name": "stderr",
     "output_type": "stream",
     "text": [
      "100%|██████████| 7012/7012 [00:00<00:00, 8752.66it/s]\n"
     ]
    },
    {
     "name": "stdout",
     "output_type": "stream",
     "text": [
      "Distribution shift: sudden\n",
      "SimpleOGD      : Cov: 0.899, Avg Width: 125.0, Avg Miscov: 0.041, Avg Regret: 0.0031, Avg. Runtime (n=100): 0.861455, Std. Runtime (n=100): 0.115052, Iteration: 10\n"
     ]
    },
    {
     "name": "stderr",
     "output_type": "stream",
     "text": [
      "100%|██████████| 7012/7012 [00:00<00:00, 8813.59it/s]\n"
     ]
    },
    {
     "name": "stdout",
     "output_type": "stream",
     "text": [
      "Distribution shift: sudden\n",
      "SimpleOGD      : Cov: 0.899, Avg Width: 125.0, Avg Miscov: 0.041, Avg Regret: 0.0031, Avg. Runtime (n=100): 0.856089, Std. Runtime (n=100): 0.111002, Iteration: 11\n"
     ]
    },
    {
     "name": "stderr",
     "output_type": "stream",
     "text": [
      "100%|██████████| 7012/7012 [00:00<00:00, 8704.69it/s]\n"
     ]
    },
    {
     "name": "stdout",
     "output_type": "stream",
     "text": [
      "Distribution shift: sudden\n",
      "SimpleOGD      : Cov: 0.899, Avg Width: 125.0, Avg Miscov: 0.041, Avg Regret: 0.0031, Avg. Runtime (n=100): 0.851161, Std. Runtime (n=100): 0.107526, Iteration: 12\n"
     ]
    },
    {
     "name": "stderr",
     "output_type": "stream",
     "text": [
      "100%|██████████| 7012/7012 [00:00<00:00, 9601.89it/s] \n"
     ]
    },
    {
     "name": "stdout",
     "output_type": "stream",
     "text": [
      "Distribution shift: sudden\n",
      "SimpleOGD      : Cov: 0.899, Avg Width: 125.0, Avg Miscov: 0.041, Avg Regret: 0.0031, Avg. Runtime (n=100): 0.847727, Std. Runtime (n=100): 0.103990, Iteration: 13\n"
     ]
    },
    {
     "name": "stderr",
     "output_type": "stream",
     "text": [
      "100%|██████████| 7012/7012 [00:00<00:00, 9825.32it/s] \n"
     ]
    },
    {
     "name": "stdout",
     "output_type": "stream",
     "text": [
      "Distribution shift: sudden\n",
      "SimpleOGD      : Cov: 0.899, Avg Width: 125.0, Avg Miscov: 0.041, Avg Regret: 0.0031, Avg. Runtime (n=100): 0.839392, Std. Runtime (n=100): 0.104617, Iteration: 14\n"
     ]
    },
    {
     "name": "stderr",
     "output_type": "stream",
     "text": [
      "100%|██████████| 7012/7012 [00:00<00:00, 9186.80it/s] \n"
     ]
    },
    {
     "name": "stdout",
     "output_type": "stream",
     "text": [
      "Distribution shift: sudden\n",
      "SimpleOGD      : Cov: 0.899, Avg Width: 125.0, Avg Miscov: 0.041, Avg Regret: 0.0031, Avg. Runtime (n=100): 0.831077, Std. Runtime (n=100): 0.105750, Iteration: 15\n"
     ]
    },
    {
     "name": "stderr",
     "output_type": "stream",
     "text": [
      "100%|██████████| 7012/7012 [00:00<00:00, 9653.88it/s]\n"
     ]
    },
    {
     "name": "stdout",
     "output_type": "stream",
     "text": [
      "Distribution shift: sudden\n",
      "SimpleOGD      : Cov: 0.899, Avg Width: 125.0, Avg Miscov: 0.041, Avg Regret: 0.0031, Avg. Runtime (n=100): 0.826901, Std. Runtime (n=100): 0.103661, Iteration: 16\n"
     ]
    },
    {
     "name": "stderr",
     "output_type": "stream",
     "text": [
      "100%|██████████| 7012/7012 [00:00<00:00, 9692.11it/s] \n"
     ]
    },
    {
     "name": "stdout",
     "output_type": "stream",
     "text": [
      "Distribution shift: sudden\n",
      "SimpleOGD      : Cov: 0.899, Avg Width: 125.0, Avg Miscov: 0.041, Avg Regret: 0.0031, Avg. Runtime (n=100): 0.821054, Std. Runtime (n=100): 0.103251, Iteration: 17\n"
     ]
    },
    {
     "name": "stderr",
     "output_type": "stream",
     "text": [
      "100%|██████████| 7012/7012 [00:00<00:00, 9850.10it/s] \n"
     ]
    },
    {
     "name": "stdout",
     "output_type": "stream",
     "text": [
      "Distribution shift: sudden\n",
      "SimpleOGD      : Cov: 0.899, Avg Width: 125.0, Avg Miscov: 0.041, Avg Regret: 0.0031, Avg. Runtime (n=100): 0.815679, Std. Runtime (n=100): 0.102760, Iteration: 18\n"
     ]
    },
    {
     "name": "stderr",
     "output_type": "stream",
     "text": [
      "100%|██████████| 7012/7012 [00:00<00:00, 9725.70it/s] \n"
     ]
    },
    {
     "name": "stdout",
     "output_type": "stream",
     "text": [
      "Distribution shift: sudden\n",
      "SimpleOGD      : Cov: 0.899, Avg Width: 125.0, Avg Miscov: 0.041, Avg Regret: 0.0031, Avg. Runtime (n=100): 0.810266, Std. Runtime (n=100): 0.102621, Iteration: 19\n"
     ]
    },
    {
     "name": "stderr",
     "output_type": "stream",
     "text": [
      "100%|██████████| 7012/7012 [00:00<00:00, 9579.39it/s]\n"
     ]
    },
    {
     "name": "stdout",
     "output_type": "stream",
     "text": [
      "Distribution shift: sudden\n",
      "SimpleOGD      : Cov: 0.899, Avg Width: 125.0, Avg Miscov: 0.041, Avg Regret: 0.0031, Avg. Runtime (n=100): 0.805858, Std. Runtime (n=100): 0.101851, Iteration: 20\n"
     ]
    },
    {
     "name": "stderr",
     "output_type": "stream",
     "text": [
      "100%|██████████| 7012/7012 [00:00<00:00, 9285.01it/s]\n"
     ]
    },
    {
     "name": "stdout",
     "output_type": "stream",
     "text": [
      "Distribution shift: sudden\n",
      "SimpleOGD      : Cov: 0.899, Avg Width: 125.0, Avg Miscov: 0.041, Avg Regret: 0.0031, Avg. Runtime (n=100): 0.802391, Std. Runtime (n=100): 0.100599, Iteration: 21\n"
     ]
    },
    {
     "name": "stderr",
     "output_type": "stream",
     "text": [
      "100%|██████████| 7012/7012 [00:00<00:00, 9487.14it/s] \n"
     ]
    },
    {
     "name": "stdout",
     "output_type": "stream",
     "text": [
      "Distribution shift: sudden\n",
      "SimpleOGD      : Cov: 0.899, Avg Width: 125.0, Avg Miscov: 0.041, Avg Regret: 0.0031, Avg. Runtime (n=100): 0.800301, Std. Runtime (n=100): 0.098752, Iteration: 22\n"
     ]
    },
    {
     "name": "stderr",
     "output_type": "stream",
     "text": [
      "100%|██████████| 7012/7012 [00:00<00:00, 9391.51it/s] \n"
     ]
    },
    {
     "name": "stdout",
     "output_type": "stream",
     "text": [
      "Distribution shift: sudden\n",
      "SimpleOGD      : Cov: 0.899, Avg Width: 125.0, Avg Miscov: 0.041, Avg Regret: 0.0031, Avg. Runtime (n=100): 0.797689, Std. Runtime (n=100): 0.097355, Iteration: 23\n"
     ]
    },
    {
     "name": "stderr",
     "output_type": "stream",
     "text": [
      "100%|██████████| 7012/7012 [00:00<00:00, 9570.58it/s] \n"
     ]
    },
    {
     "name": "stdout",
     "output_type": "stream",
     "text": [
      "Distribution shift: sudden\n",
      "SimpleOGD      : Cov: 0.899, Avg Width: 125.0, Avg Miscov: 0.041, Avg Regret: 0.0031, Avg. Runtime (n=100): 0.795604, Std. Runtime (n=100): 0.095828, Iteration: 24\n"
     ]
    },
    {
     "name": "stderr",
     "output_type": "stream",
     "text": [
      "100%|██████████| 7012/7012 [00:00<00:00, 9510.54it/s] \n"
     ]
    },
    {
     "name": "stdout",
     "output_type": "stream",
     "text": [
      "Distribution shift: sudden\n",
      "SimpleOGD      : Cov: 0.899, Avg Width: 125.0, Avg Miscov: 0.041, Avg Regret: 0.0031, Avg. Runtime (n=100): 0.793126, Std. Runtime (n=100): 0.094674, Iteration: 25\n"
     ]
    },
    {
     "name": "stderr",
     "output_type": "stream",
     "text": [
      "100%|██████████| 7012/7012 [00:00<00:00, 9790.28it/s] \n"
     ]
    },
    {
     "name": "stdout",
     "output_type": "stream",
     "text": [
      "Distribution shift: sudden\n",
      "SimpleOGD      : Cov: 0.899, Avg Width: 125.0, Avg Miscov: 0.041, Avg Regret: 0.0031, Avg. Runtime (n=100): 0.791014, Std. Runtime (n=100): 0.093434, Iteration: 26\n"
     ]
    },
    {
     "name": "stderr",
     "output_type": "stream",
     "text": [
      "100%|██████████| 7012/7012 [00:00<00:00, 9064.08it/s]\n"
     ]
    },
    {
     "name": "stdout",
     "output_type": "stream",
     "text": [
      "Distribution shift: sudden\n",
      "SimpleOGD      : Cov: 0.899, Avg Width: 125.0, Avg Miscov: 0.041, Avg Regret: 0.0031, Avg. Runtime (n=100): 0.788279, Std. Runtime (n=100): 0.092742, Iteration: 27\n"
     ]
    },
    {
     "name": "stderr",
     "output_type": "stream",
     "text": [
      "100%|██████████| 7012/7012 [00:00<00:00, 9790.38it/s]\n"
     ]
    },
    {
     "name": "stdout",
     "output_type": "stream",
     "text": [
      "Distribution shift: sudden\n",
      "SimpleOGD      : Cov: 0.899, Avg Width: 125.0, Avg Miscov: 0.041, Avg Regret: 0.0031, Avg. Runtime (n=100): 0.787787, Std. Runtime (n=100): 0.091106, Iteration: 28\n"
     ]
    },
    {
     "name": "stderr",
     "output_type": "stream",
     "text": [
      "100%|██████████| 7012/7012 [00:00<00:00, 9580.42it/s]\n"
     ]
    },
    {
     "name": "stdout",
     "output_type": "stream",
     "text": [
      "Distribution shift: sudden\n",
      "SimpleOGD      : Cov: 0.899, Avg Width: 125.0, Avg Miscov: 0.041, Avg Regret: 0.0031, Avg. Runtime (n=100): 0.785357, Std. Runtime (n=100): 0.090441, Iteration: 29\n"
     ]
    },
    {
     "name": "stderr",
     "output_type": "stream",
     "text": [
      "100%|██████████| 7012/7012 [00:00<00:00, 9592.17it/s] \n"
     ]
    },
    {
     "name": "stdout",
     "output_type": "stream",
     "text": [
      "Distribution shift: sudden\n",
      "SimpleOGD      : Cov: 0.899, Avg Width: 125.0, Avg Miscov: 0.041, Avg Regret: 0.0031, Avg. Runtime (n=100): 0.783619, Std. Runtime (n=100): 0.089412, Iteration: 30\n"
     ]
    },
    {
     "name": "stderr",
     "output_type": "stream",
     "text": [
      "100%|██████████| 7012/7012 [00:00<00:00, 9565.25it/s] \n"
     ]
    },
    {
     "name": "stdout",
     "output_type": "stream",
     "text": [
      "Distribution shift: sudden\n",
      "SimpleOGD      : Cov: 0.899, Avg Width: 125.0, Avg Miscov: 0.041, Avg Regret: 0.0031, Avg. Runtime (n=100): 0.781956, Std. Runtime (n=100): 0.088428, Iteration: 31\n"
     ]
    },
    {
     "name": "stderr",
     "output_type": "stream",
     "text": [
      "100%|██████████| 7012/7012 [00:00<00:00, 9454.33it/s]\n"
     ]
    },
    {
     "name": "stdout",
     "output_type": "stream",
     "text": [
      "Distribution shift: sudden\n",
      "SimpleOGD      : Cov: 0.899, Avg Width: 125.0, Avg Miscov: 0.041, Avg Regret: 0.0031, Avg. Runtime (n=100): 0.780459, Std. Runtime (n=100): 0.087434, Iteration: 32\n"
     ]
    },
    {
     "name": "stderr",
     "output_type": "stream",
     "text": [
      "100%|██████████| 7012/7012 [00:00<00:00, 9631.51it/s]\n"
     ]
    },
    {
     "name": "stdout",
     "output_type": "stream",
     "text": [
      "Distribution shift: sudden\n",
      "SimpleOGD      : Cov: 0.899, Avg Width: 125.0, Avg Miscov: 0.041, Avg Regret: 0.0031, Avg. Runtime (n=100): 0.779322, Std. Runtime (n=100): 0.086339, Iteration: 33\n"
     ]
    },
    {
     "name": "stderr",
     "output_type": "stream",
     "text": [
      "100%|██████████| 7012/7012 [00:00<00:00, 9541.46it/s]\n"
     ]
    },
    {
     "name": "stdout",
     "output_type": "stream",
     "text": [
      "Distribution shift: sudden\n",
      "SimpleOGD      : Cov: 0.899, Avg Width: 125.0, Avg Miscov: 0.041, Avg Regret: 0.0031, Avg. Runtime (n=100): 0.777848, Std. Runtime (n=100): 0.085480, Iteration: 34\n"
     ]
    },
    {
     "name": "stderr",
     "output_type": "stream",
     "text": [
      "100%|██████████| 7012/7012 [00:00<00:00, 9317.31it/s]\n"
     ]
    },
    {
     "name": "stdout",
     "output_type": "stream",
     "text": [
      "Distribution shift: sudden\n",
      "SimpleOGD      : Cov: 0.899, Avg Width: 125.0, Avg Miscov: 0.041, Avg Regret: 0.0031, Avg. Runtime (n=100): 0.776656, Std. Runtime (n=100): 0.084536, Iteration: 35\n"
     ]
    },
    {
     "name": "stderr",
     "output_type": "stream",
     "text": [
      "100%|██████████| 7012/7012 [00:00<00:00, 9754.69it/s]\n"
     ]
    },
    {
     "name": "stdout",
     "output_type": "stream",
     "text": [
      "Distribution shift: sudden\n",
      "SimpleOGD      : Cov: 0.899, Avg Width: 125.0, Avg Miscov: 0.041, Avg Regret: 0.0031, Avg. Runtime (n=100): 0.776369, Std. Runtime (n=100): 0.083371, Iteration: 36\n"
     ]
    },
    {
     "name": "stderr",
     "output_type": "stream",
     "text": [
      "100%|██████████| 7012/7012 [00:00<00:00, 9493.16it/s]\n"
     ]
    },
    {
     "name": "stdout",
     "output_type": "stream",
     "text": [
      "Distribution shift: sudden\n",
      "SimpleOGD      : Cov: 0.899, Avg Width: 125.0, Avg Miscov: 0.041, Avg Regret: 0.0031, Avg. Runtime (n=100): 0.774846, Std. Runtime (n=100): 0.082743, Iteration: 37\n"
     ]
    },
    {
     "name": "stderr",
     "output_type": "stream",
     "text": [
      "100%|██████████| 7012/7012 [00:00<00:00, 9915.31it/s] \n"
     ]
    },
    {
     "name": "stdout",
     "output_type": "stream",
     "text": [
      "Distribution shift: sudden\n",
      "SimpleOGD      : Cov: 0.899, Avg Width: 125.0, Avg Miscov: 0.041, Avg Regret: 0.0031, Avg. Runtime (n=100): 0.773926, Std. Runtime (n=100): 0.081838, Iteration: 38\n"
     ]
    },
    {
     "name": "stderr",
     "output_type": "stream",
     "text": [
      "100%|██████████| 7012/7012 [00:00<00:00, 9761.15it/s] \n"
     ]
    },
    {
     "name": "stdout",
     "output_type": "stream",
     "text": [
      "Distribution shift: sudden\n",
      "SimpleOGD      : Cov: 0.899, Avg Width: 125.0, Avg Miscov: 0.041, Avg Regret: 0.0031, Avg. Runtime (n=100): 0.772237, Std. Runtime (n=100): 0.081450, Iteration: 39\n"
     ]
    },
    {
     "name": "stderr",
     "output_type": "stream",
     "text": [
      "100%|██████████| 7012/7012 [00:00<00:00, 9241.04it/s] \n"
     ]
    },
    {
     "name": "stdout",
     "output_type": "stream",
     "text": [
      "Distribution shift: sudden\n",
      "SimpleOGD      : Cov: 0.899, Avg Width: 125.0, Avg Miscov: 0.041, Avg Regret: 0.0031, Avg. Runtime (n=100): 0.770911, Std. Runtime (n=100): 0.080851, Iteration: 40\n"
     ]
    },
    {
     "name": "stderr",
     "output_type": "stream",
     "text": [
      "100%|██████████| 7012/7012 [00:00<00:00, 9621.74it/s]\n"
     ]
    },
    {
     "name": "stdout",
     "output_type": "stream",
     "text": [
      "Distribution shift: sudden\n",
      "SimpleOGD      : Cov: 0.899, Avg Width: 125.0, Avg Miscov: 0.041, Avg Regret: 0.0031, Avg. Runtime (n=100): 0.770643, Std. Runtime (n=100): 0.079877, Iteration: 41\n"
     ]
    },
    {
     "name": "stderr",
     "output_type": "stream",
     "text": [
      "100%|██████████| 7012/7012 [00:00<00:00, 9407.35it/s]\n"
     ]
    },
    {
     "name": "stdout",
     "output_type": "stream",
     "text": [
      "Distribution shift: sudden\n",
      "SimpleOGD      : Cov: 0.899, Avg Width: 125.0, Avg Miscov: 0.041, Avg Regret: 0.0031, Avg. Runtime (n=100): 0.769670, Std. Runtime (n=100): 0.079165, Iteration: 42\n"
     ]
    },
    {
     "name": "stderr",
     "output_type": "stream",
     "text": [
      "100%|██████████| 7012/7012 [00:00<00:00, 9604.09it/s]\n"
     ]
    },
    {
     "name": "stdout",
     "output_type": "stream",
     "text": [
      "Distribution shift: sudden\n",
      "SimpleOGD      : Cov: 0.899, Avg Width: 125.0, Avg Miscov: 0.041, Avg Regret: 0.0031, Avg. Runtime (n=100): 0.769134, Std. Runtime (n=100): 0.078317, Iteration: 43\n"
     ]
    },
    {
     "name": "stderr",
     "output_type": "stream",
     "text": [
      "100%|██████████| 7012/7012 [00:00<00:00, 9807.76it/s] \n"
     ]
    },
    {
     "name": "stdout",
     "output_type": "stream",
     "text": [
      "Distribution shift: sudden\n",
      "SimpleOGD      : Cov: 0.899, Avg Width: 125.0, Avg Miscov: 0.041, Avg Regret: 0.0031, Avg. Runtime (n=100): 0.768270, Std. Runtime (n=100): 0.077629, Iteration: 44\n"
     ]
    },
    {
     "name": "stderr",
     "output_type": "stream",
     "text": [
      "100%|██████████| 7012/7012 [00:00<00:00, 9717.73it/s]\n"
     ]
    },
    {
     "name": "stdout",
     "output_type": "stream",
     "text": [
      "Distribution shift: sudden\n",
      "SimpleOGD      : Cov: 0.899, Avg Width: 125.0, Avg Miscov: 0.041, Avg Regret: 0.0031, Avg. Runtime (n=100): 0.767109, Std. Runtime (n=100): 0.077147, Iteration: 45\n"
     ]
    },
    {
     "name": "stderr",
     "output_type": "stream",
     "text": [
      "100%|██████████| 7012/7012 [00:00<00:00, 9592.62it/s]\n"
     ]
    },
    {
     "name": "stdout",
     "output_type": "stream",
     "text": [
      "Distribution shift: sudden\n",
      "SimpleOGD      : Cov: 0.899, Avg Width: 125.0, Avg Miscov: 0.041, Avg Regret: 0.0031, Avg. Runtime (n=100): 0.766142, Std. Runtime (n=100): 0.076579, Iteration: 46\n"
     ]
    },
    {
     "name": "stderr",
     "output_type": "stream",
     "text": [
      "100%|██████████| 7012/7012 [00:00<00:00, 9734.09it/s] \n"
     ]
    },
    {
     "name": "stdout",
     "output_type": "stream",
     "text": [
      "Distribution shift: sudden\n",
      "SimpleOGD      : Cov: 0.899, Avg Width: 125.0, Avg Miscov: 0.041, Avg Regret: 0.0031, Avg. Runtime (n=100): 0.765416, Std. Runtime (n=100): 0.075919, Iteration: 47\n"
     ]
    },
    {
     "name": "stderr",
     "output_type": "stream",
     "text": [
      "100%|██████████| 7012/7012 [00:00<00:00, 9716.61it/s] \n"
     ]
    },
    {
     "name": "stdout",
     "output_type": "stream",
     "text": [
      "Distribution shift: sudden\n",
      "SimpleOGD      : Cov: 0.899, Avg Width: 125.0, Avg Miscov: 0.041, Avg Regret: 0.0031, Avg. Runtime (n=100): 0.764496, Std. Runtime (n=100): 0.075389, Iteration: 48\n"
     ]
    },
    {
     "name": "stderr",
     "output_type": "stream",
     "text": [
      "100%|██████████| 7012/7012 [00:00<00:00, 9700.64it/s] \n"
     ]
    },
    {
     "name": "stdout",
     "output_type": "stream",
     "text": [
      "Distribution shift: sudden\n",
      "SimpleOGD      : Cov: 0.899, Avg Width: 125.0, Avg Miscov: 0.041, Avg Regret: 0.0031, Avg. Runtime (n=100): 0.763637, Std. Runtime (n=100): 0.074852, Iteration: 49\n"
     ]
    },
    {
     "name": "stderr",
     "output_type": "stream",
     "text": [
      "100%|██████████| 7012/7012 [00:00<00:00, 9817.00it/s]\n"
     ]
    },
    {
     "name": "stdout",
     "output_type": "stream",
     "text": [
      "Distribution shift: sudden\n",
      "SimpleOGD      : Cov: 0.899, Avg Width: 125.0, Avg Miscov: 0.041, Avg Regret: 0.0031, Avg. Runtime (n=100): 0.762841, Std. Runtime (n=100): 0.074309, Iteration: 50\n"
     ]
    },
    {
     "name": "stderr",
     "output_type": "stream",
     "text": [
      "100%|██████████| 7012/7012 [00:00<00:00, 9471.04it/s] \n"
     ]
    },
    {
     "name": "stdout",
     "output_type": "stream",
     "text": [
      "Distribution shift: sudden\n",
      "SimpleOGD      : Cov: 0.899, Avg Width: 125.0, Avg Miscov: 0.041, Avg Regret: 0.0031, Avg. Runtime (n=100): 0.761910, Std. Runtime (n=100): 0.073871, Iteration: 51\n"
     ]
    },
    {
     "name": "stderr",
     "output_type": "stream",
     "text": [
      "100%|██████████| 7012/7012 [00:00<00:00, 9252.03it/s]\n"
     ]
    },
    {
     "name": "stdout",
     "output_type": "stream",
     "text": [
      "Distribution shift: sudden\n",
      "SimpleOGD      : Cov: 0.899, Avg Width: 125.0, Avg Miscov: 0.041, Avg Regret: 0.0031, Avg. Runtime (n=100): 0.761516, Std. Runtime (n=100): 0.073211, Iteration: 52\n"
     ]
    },
    {
     "name": "stderr",
     "output_type": "stream",
     "text": [
      "100%|██████████| 7012/7012 [00:00<00:00, 9709.28it/s] \n"
     ]
    },
    {
     "name": "stdout",
     "output_type": "stream",
     "text": [
      "Distribution shift: sudden\n",
      "SimpleOGD      : Cov: 0.899, Avg Width: 125.0, Avg Miscov: 0.041, Avg Regret: 0.0031, Avg. Runtime (n=100): 0.761473, Std. Runtime (n=100): 0.072518, Iteration: 53\n"
     ]
    },
    {
     "name": "stderr",
     "output_type": "stream",
     "text": [
      "100%|██████████| 7012/7012 [00:00<00:00, 9734.27it/s]\n"
     ]
    },
    {
     "name": "stdout",
     "output_type": "stream",
     "text": [
      "Distribution shift: sudden\n",
      "SimpleOGD      : Cov: 0.899, Avg Width: 125.0, Avg Miscov: 0.041, Avg Regret: 0.0031, Avg. Runtime (n=100): 0.760763, Std. Runtime (n=100): 0.072029, Iteration: 54\n"
     ]
    },
    {
     "name": "stderr",
     "output_type": "stream",
     "text": [
      "100%|██████████| 7012/7012 [00:00<00:00, 9683.45it/s] \n"
     ]
    },
    {
     "name": "stdout",
     "output_type": "stream",
     "text": [
      "Distribution shift: sudden\n",
      "SimpleOGD      : Cov: 0.899, Avg Width: 125.0, Avg Miscov: 0.041, Avg Regret: 0.0031, Avg. Runtime (n=100): 0.760049, Std. Runtime (n=100): 0.071564, Iteration: 55\n"
     ]
    },
    {
     "name": "stderr",
     "output_type": "stream",
     "text": [
      "100%|██████████| 7012/7012 [00:00<00:00, 9171.24it/s]\n"
     ]
    },
    {
     "name": "stdout",
     "output_type": "stream",
     "text": [
      "Distribution shift: sudden\n",
      "SimpleOGD      : Cov: 0.899, Avg Width: 125.0, Avg Miscov: 0.041, Avg Regret: 0.0031, Avg. Runtime (n=100): 0.759427, Std. Runtime (n=100): 0.071072, Iteration: 56\n"
     ]
    },
    {
     "name": "stderr",
     "output_type": "stream",
     "text": [
      "100%|██████████| 7012/7012 [00:00<00:00, 9306.82it/s] \n"
     ]
    },
    {
     "name": "stdout",
     "output_type": "stream",
     "text": [
      "Distribution shift: sudden\n",
      "SimpleOGD      : Cov: 0.899, Avg Width: 125.0, Avg Miscov: 0.041, Avg Regret: 0.0031, Avg. Runtime (n=100): 0.759537, Std. Runtime (n=100): 0.070451, Iteration: 57\n"
     ]
    },
    {
     "name": "stderr",
     "output_type": "stream",
     "text": [
      "100%|██████████| 7012/7012 [00:00<00:00, 9719.77it/s] \n"
     ]
    },
    {
     "name": "stdout",
     "output_type": "stream",
     "text": [
      "Distribution shift: sudden\n",
      "SimpleOGD      : Cov: 0.899, Avg Width: 125.0, Avg Miscov: 0.041, Avg Regret: 0.0031, Avg. Runtime (n=100): 0.759451, Std. Runtime (n=100): 0.069844, Iteration: 58\n"
     ]
    },
    {
     "name": "stderr",
     "output_type": "stream",
     "text": [
      "100%|██████████| 7012/7012 [00:00<00:00, 9619.99it/s]\n"
     ]
    },
    {
     "name": "stdout",
     "output_type": "stream",
     "text": [
      "Distribution shift: sudden\n",
      "SimpleOGD      : Cov: 0.899, Avg Width: 125.0, Avg Miscov: 0.041, Avg Regret: 0.0031, Avg. Runtime (n=100): 0.758823, Std. Runtime (n=100): 0.069414, Iteration: 59\n"
     ]
    },
    {
     "name": "stderr",
     "output_type": "stream",
     "text": [
      "100%|██████████| 7012/7012 [00:00<00:00, 9576.64it/s]\n"
     ]
    },
    {
     "name": "stdout",
     "output_type": "stream",
     "text": [
      "Distribution shift: sudden\n",
      "SimpleOGD      : Cov: 0.899, Avg Width: 125.0, Avg Miscov: 0.041, Avg Regret: 0.0031, Avg. Runtime (n=100): 0.758341, Std. Runtime (n=100): 0.068932, Iteration: 60\n"
     ]
    },
    {
     "name": "stderr",
     "output_type": "stream",
     "text": [
      "100%|██████████| 7012/7012 [00:00<00:00, 9688.56it/s] \n"
     ]
    },
    {
     "name": "stdout",
     "output_type": "stream",
     "text": [
      "Distribution shift: sudden\n",
      "SimpleOGD      : Cov: 0.899, Avg Width: 125.0, Avg Miscov: 0.041, Avg Regret: 0.0031, Avg. Runtime (n=100): 0.757928, Std. Runtime (n=100): 0.068440, Iteration: 61\n"
     ]
    },
    {
     "name": "stderr",
     "output_type": "stream",
     "text": [
      "100%|██████████| 7012/7012 [00:00<00:00, 9733.58it/s] \n"
     ]
    },
    {
     "name": "stdout",
     "output_type": "stream",
     "text": [
      "Distribution shift: sudden\n",
      "SimpleOGD      : Cov: 0.899, Avg Width: 125.0, Avg Miscov: 0.041, Avg Regret: 0.0031, Avg. Runtime (n=100): 0.757392, Std. Runtime (n=100): 0.068015, Iteration: 62\n"
     ]
    },
    {
     "name": "stderr",
     "output_type": "stream",
     "text": [
      "100%|██████████| 7012/7012 [00:00<00:00, 9596.33it/s]\n"
     ]
    },
    {
     "name": "stdout",
     "output_type": "stream",
     "text": [
      "Distribution shift: sudden\n",
      "SimpleOGD      : Cov: 0.899, Avg Width: 125.0, Avg Miscov: 0.041, Avg Regret: 0.0031, Avg. Runtime (n=100): 0.756823, Std. Runtime (n=100): 0.067621, Iteration: 63\n"
     ]
    },
    {
     "name": "stderr",
     "output_type": "stream",
     "text": [
      "100%|██████████| 7012/7012 [00:00<00:00, 9767.55it/s] \n"
     ]
    },
    {
     "name": "stdout",
     "output_type": "stream",
     "text": [
      "Distribution shift: sudden\n",
      "SimpleOGD      : Cov: 0.899, Avg Width: 125.0, Avg Miscov: 0.041, Avg Regret: 0.0031, Avg. Runtime (n=100): 0.756431, Std. Runtime (n=100): 0.067163, Iteration: 64\n"
     ]
    },
    {
     "name": "stderr",
     "output_type": "stream",
     "text": [
      "100%|██████████| 7012/7012 [00:00<00:00, 9759.09it/s] \n"
     ]
    },
    {
     "name": "stdout",
     "output_type": "stream",
     "text": [
      "Distribution shift: sudden\n",
      "SimpleOGD      : Cov: 0.899, Avg Width: 125.0, Avg Miscov: 0.041, Avg Regret: 0.0031, Avg. Runtime (n=100): 0.755852, Std. Runtime (n=100): 0.066805, Iteration: 65\n"
     ]
    },
    {
     "name": "stderr",
     "output_type": "stream",
     "text": [
      "100%|██████████| 7012/7012 [00:00<00:00, 9833.15it/s] \n"
     ]
    },
    {
     "name": "stdout",
     "output_type": "stream",
     "text": [
      "Distribution shift: sudden\n",
      "SimpleOGD      : Cov: 0.899, Avg Width: 125.0, Avg Miscov: 0.041, Avg Regret: 0.0031, Avg. Runtime (n=100): 0.755301, Std. Runtime (n=100): 0.066446, Iteration: 66\n"
     ]
    },
    {
     "name": "stderr",
     "output_type": "stream",
     "text": [
      "100%|██████████| 7012/7012 [00:00<00:00, 9811.38it/s] \n"
     ]
    },
    {
     "name": "stdout",
     "output_type": "stream",
     "text": [
      "Distribution shift: sudden\n",
      "SimpleOGD      : Cov: 0.899, Avg Width: 125.0, Avg Miscov: 0.041, Avg Regret: 0.0031, Avg. Runtime (n=100): 0.754686, Std. Runtime (n=100): 0.066137, Iteration: 67\n"
     ]
    },
    {
     "name": "stderr",
     "output_type": "stream",
     "text": [
      "100%|██████████| 7012/7012 [00:00<00:00, 9856.41it/s] \n"
     ]
    },
    {
     "name": "stdout",
     "output_type": "stream",
     "text": [
      "Distribution shift: sudden\n",
      "SimpleOGD      : Cov: 0.899, Avg Width: 125.0, Avg Miscov: 0.041, Avg Regret: 0.0031, Avg. Runtime (n=100): 0.754113, Std. Runtime (n=100): 0.065816, Iteration: 68\n"
     ]
    },
    {
     "name": "stderr",
     "output_type": "stream",
     "text": [
      "100%|██████████| 7012/7012 [00:00<00:00, 9823.90it/s] \n"
     ]
    },
    {
     "name": "stdout",
     "output_type": "stream",
     "text": [
      "Distribution shift: sudden\n",
      "SimpleOGD      : Cov: 0.899, Avg Width: 125.0, Avg Miscov: 0.041, Avg Regret: 0.0031, Avg. Runtime (n=100): 0.753507, Std. Runtime (n=100): 0.065528, Iteration: 69\n"
     ]
    },
    {
     "name": "stderr",
     "output_type": "stream",
     "text": [
      "100%|██████████| 7012/7012 [00:00<00:00, 9582.80it/s] \n"
     ]
    },
    {
     "name": "stdout",
     "output_type": "stream",
     "text": [
      "Distribution shift: sudden\n",
      "SimpleOGD      : Cov: 0.899, Avg Width: 125.0, Avg Miscov: 0.041, Avg Regret: 0.0031, Avg. Runtime (n=100): 0.752955, Std. Runtime (n=100): 0.065220, Iteration: 70\n"
     ]
    },
    {
     "name": "stderr",
     "output_type": "stream",
     "text": [
      "100%|██████████| 7012/7012 [00:00<00:00, 9349.65it/s] \n"
     ]
    },
    {
     "name": "stdout",
     "output_type": "stream",
     "text": [
      "Distribution shift: sudden\n",
      "SimpleOGD      : Cov: 0.899, Avg Width: 125.0, Avg Miscov: 0.041, Avg Regret: 0.0031, Avg. Runtime (n=100): 0.752669, Std. Runtime (n=100): 0.064803, Iteration: 71\n"
     ]
    },
    {
     "name": "stderr",
     "output_type": "stream",
     "text": [
      "100%|██████████| 7012/7012 [00:00<00:00, 9749.37it/s] \n"
     ]
    },
    {
     "name": "stdout",
     "output_type": "stream",
     "text": [
      "Distribution shift: sudden\n",
      "SimpleOGD      : Cov: 0.899, Avg Width: 125.0, Avg Miscov: 0.041, Avg Regret: 0.0031, Avg. Runtime (n=100): 0.752644, Std. Runtime (n=100): 0.064352, Iteration: 72\n"
     ]
    },
    {
     "name": "stderr",
     "output_type": "stream",
     "text": [
      "100%|██████████| 7012/7012 [00:00<00:00, 9222.42it/s] \n"
     ]
    },
    {
     "name": "stdout",
     "output_type": "stream",
     "text": [
      "Distribution shift: sudden\n",
      "SimpleOGD      : Cov: 0.899, Avg Width: 125.0, Avg Miscov: 0.041, Avg Regret: 0.0031, Avg. Runtime (n=100): 0.752204, Std. Runtime (n=100): 0.064019, Iteration: 73\n"
     ]
    },
    {
     "name": "stderr",
     "output_type": "stream",
     "text": [
      "100%|██████████| 7012/7012 [00:00<00:00, 8716.66it/s]\n"
     ]
    },
    {
     "name": "stdout",
     "output_type": "stream",
     "text": [
      "Distribution shift: sudden\n",
      "SimpleOGD      : Cov: 0.899, Avg Width: 125.0, Avg Miscov: 0.041, Avg Regret: 0.0031, Avg. Runtime (n=100): 0.752328, Std. Runtime (n=100): 0.063594, Iteration: 74\n"
     ]
    },
    {
     "name": "stderr",
     "output_type": "stream",
     "text": [
      "100%|██████████| 7012/7012 [00:00<00:00, 9691.30it/s]\n"
     ]
    },
    {
     "name": "stdout",
     "output_type": "stream",
     "text": [
      "Distribution shift: sudden\n",
      "SimpleOGD      : Cov: 0.899, Avg Width: 125.0, Avg Miscov: 0.041, Avg Regret: 0.0031, Avg. Runtime (n=100): 0.753039, Std. Runtime (n=100): 0.063464, Iteration: 75\n"
     ]
    },
    {
     "name": "stderr",
     "output_type": "stream",
     "text": [
      "100%|██████████| 7012/7012 [00:00<00:00, 9587.87it/s] \n"
     ]
    },
    {
     "name": "stdout",
     "output_type": "stream",
     "text": [
      "Distribution shift: sudden\n",
      "SimpleOGD      : Cov: 0.899, Avg Width: 125.0, Avg Miscov: 0.041, Avg Regret: 0.0031, Avg. Runtime (n=100): 0.752665, Std. Runtime (n=100): 0.063129, Iteration: 76\n"
     ]
    },
    {
     "name": "stderr",
     "output_type": "stream",
     "text": [
      "100%|██████████| 7012/7012 [00:00<00:00, 9634.54it/s] \n"
     ]
    },
    {
     "name": "stdout",
     "output_type": "stream",
     "text": [
      "Distribution shift: sudden\n",
      "SimpleOGD      : Cov: 0.899, Avg Width: 125.0, Avg Miscov: 0.041, Avg Regret: 0.0031, Avg. Runtime (n=100): 0.752403, Std. Runtime (n=100): 0.062759, Iteration: 77\n"
     ]
    },
    {
     "name": "stderr",
     "output_type": "stream",
     "text": [
      "100%|██████████| 7012/7012 [00:00<00:00, 8227.15it/s]\n"
     ]
    },
    {
     "name": "stdout",
     "output_type": "stream",
     "text": [
      "Distribution shift: sudden\n",
      "SimpleOGD      : Cov: 0.899, Avg Width: 125.0, Avg Miscov: 0.041, Avg Regret: 0.0031, Avg. Runtime (n=100): 0.752103, Std. Runtime (n=100): 0.062411, Iteration: 78\n"
     ]
    },
    {
     "name": "stderr",
     "output_type": "stream",
     "text": [
      "100%|██████████| 7012/7012 [00:00<00:00, 8304.92it/s]\n"
     ]
    },
    {
     "name": "stdout",
     "output_type": "stream",
     "text": [
      "Distribution shift: sudden\n",
      "SimpleOGD      : Cov: 0.899, Avg Width: 125.0, Avg Miscov: 0.041, Avg Regret: 0.0031, Avg. Runtime (n=100): 0.753669, Std. Runtime (n=100): 0.063538, Iteration: 79\n"
     ]
    },
    {
     "name": "stderr",
     "output_type": "stream",
     "text": [
      "100%|██████████| 7012/7012 [00:00<00:00, 8641.06it/s]\n"
     ]
    },
    {
     "name": "stdout",
     "output_type": "stream",
     "text": [
      "Distribution shift: sudden\n",
      "SimpleOGD      : Cov: 0.899, Avg Width: 125.0, Avg Miscov: 0.041, Avg Regret: 0.0031, Avg. Runtime (n=100): 0.754847, Std. Runtime (n=100): 0.064002, Iteration: 80\n"
     ]
    },
    {
     "name": "stderr",
     "output_type": "stream",
     "text": [
      "100%|██████████| 7012/7012 [00:00<00:00, 8218.92it/s]\n"
     ]
    },
    {
     "name": "stdout",
     "output_type": "stream",
     "text": [
      "Distribution shift: sudden\n",
      "SimpleOGD      : Cov: 0.899, Avg Width: 125.0, Avg Miscov: 0.041, Avg Regret: 0.0031, Avg. Runtime (n=100): 0.755562, Std. Runtime (n=100): 0.063926, Iteration: 81\n"
     ]
    },
    {
     "name": "stderr",
     "output_type": "stream",
     "text": [
      "100%|██████████| 7012/7012 [00:00<00:00, 9100.40it/s]\n"
     ]
    },
    {
     "name": "stdout",
     "output_type": "stream",
     "text": [
      "Distribution shift: sudden\n",
      "SimpleOGD      : Cov: 0.899, Avg Width: 125.0, Avg Miscov: 0.041, Avg Regret: 0.0031, Avg. Runtime (n=100): 0.756769, Std. Runtime (n=100): 0.064458, Iteration: 82\n"
     ]
    },
    {
     "name": "stderr",
     "output_type": "stream",
     "text": [
      "100%|██████████| 7012/7012 [00:00<00:00, 8785.09it/s]\n"
     ]
    },
    {
     "name": "stdout",
     "output_type": "stream",
     "text": [
      "Distribution shift: sudden\n",
      "SimpleOGD      : Cov: 0.899, Avg Width: 125.0, Avg Miscov: 0.041, Avg Regret: 0.0031, Avg. Runtime (n=100): 0.756952, Std. Runtime (n=100): 0.064090, Iteration: 83\n"
     ]
    },
    {
     "name": "stderr",
     "output_type": "stream",
     "text": [
      "100%|██████████| 7012/7012 [00:00<00:00, 9457.20it/s]\n"
     ]
    },
    {
     "name": "stdout",
     "output_type": "stream",
     "text": [
      "Distribution shift: sudden\n",
      "SimpleOGD      : Cov: 0.899, Avg Width: 125.0, Avg Miscov: 0.041, Avg Regret: 0.0031, Avg. Runtime (n=100): 0.757456, Std. Runtime (n=100): 0.063873, Iteration: 84\n"
     ]
    },
    {
     "name": "stderr",
     "output_type": "stream",
     "text": [
      "100%|██████████| 7012/7012 [00:00<00:00, 9678.64it/s]\n"
     ]
    },
    {
     "name": "stdout",
     "output_type": "stream",
     "text": [
      "Distribution shift: sudden\n",
      "SimpleOGD      : Cov: 0.899, Avg Width: 125.0, Avg Miscov: 0.041, Avg Regret: 0.0031, Avg. Runtime (n=100): 0.757280, Std. Runtime (n=100): 0.063516, Iteration: 85\n"
     ]
    },
    {
     "name": "stderr",
     "output_type": "stream",
     "text": [
      "100%|██████████| 7012/7012 [00:00<00:00, 9645.75it/s]\n"
     ]
    },
    {
     "name": "stdout",
     "output_type": "stream",
     "text": [
      "Distribution shift: sudden\n",
      "SimpleOGD      : Cov: 0.899, Avg Width: 125.0, Avg Miscov: 0.041, Avg Regret: 0.0031, Avg. Runtime (n=100): 0.756910, Std. Runtime (n=100): 0.063238, Iteration: 86\n"
     ]
    },
    {
     "name": "stderr",
     "output_type": "stream",
     "text": [
      "100%|██████████| 7012/7012 [00:00<00:00, 9747.03it/s] \n"
     ]
    },
    {
     "name": "stdout",
     "output_type": "stream",
     "text": [
      "Distribution shift: sudden\n",
      "SimpleOGD      : Cov: 0.899, Avg Width: 125.0, Avg Miscov: 0.041, Avg Regret: 0.0031, Avg. Runtime (n=100): 0.756576, Std. Runtime (n=100): 0.062950, Iteration: 87\n"
     ]
    },
    {
     "name": "stderr",
     "output_type": "stream",
     "text": [
      "100%|██████████| 7012/7012 [00:00<00:00, 9004.92it/s]\n"
     ]
    },
    {
     "name": "stdout",
     "output_type": "stream",
     "text": [
      "Distribution shift: sudden\n",
      "SimpleOGD      : Cov: 0.899, Avg Width: 125.0, Avg Miscov: 0.041, Avg Regret: 0.0031, Avg. Runtime (n=100): 0.756165, Std. Runtime (n=100): 0.062708, Iteration: 88\n"
     ]
    },
    {
     "name": "stderr",
     "output_type": "stream",
     "text": [
      "100%|██████████| 7012/7012 [00:00<00:00, 8762.48it/s]\n"
     ]
    },
    {
     "name": "stdout",
     "output_type": "stream",
     "text": [
      "Distribution shift: sudden\n",
      "SimpleOGD      : Cov: 0.899, Avg Width: 125.0, Avg Miscov: 0.041, Avg Regret: 0.0031, Avg. Runtime (n=100): 0.756431, Std. Runtime (n=100): 0.062405, Iteration: 89\n"
     ]
    },
    {
     "name": "stderr",
     "output_type": "stream",
     "text": [
      "100%|██████████| 7012/7012 [00:00<00:00, 9028.01it/s]\n"
     ]
    },
    {
     "name": "stdout",
     "output_type": "stream",
     "text": [
      "Distribution shift: sudden\n",
      "SimpleOGD      : Cov: 0.899, Avg Width: 125.0, Avg Miscov: 0.041, Avg Regret: 0.0031, Avg. Runtime (n=100): 0.756930, Std. Runtime (n=100): 0.062236, Iteration: 90\n"
     ]
    },
    {
     "name": "stderr",
     "output_type": "stream",
     "text": [
      "100%|██████████| 7012/7012 [00:00<00:00, 9749.32it/s] \n"
     ]
    },
    {
     "name": "stdout",
     "output_type": "stream",
     "text": [
      "Distribution shift: sudden\n",
      "SimpleOGD      : Cov: 0.899, Avg Width: 125.0, Avg Miscov: 0.041, Avg Regret: 0.0031, Avg. Runtime (n=100): 0.757161, Std. Runtime (n=100): 0.061931, Iteration: 91\n"
     ]
    },
    {
     "name": "stderr",
     "output_type": "stream",
     "text": [
      "100%|██████████| 7012/7012 [00:00<00:00, 9181.46it/s]\n"
     ]
    },
    {
     "name": "stdout",
     "output_type": "stream",
     "text": [
      "Distribution shift: sudden\n",
      "SimpleOGD      : Cov: 0.899, Avg Width: 125.0, Avg Miscov: 0.041, Avg Regret: 0.0031, Avg. Runtime (n=100): 0.756761, Std. Runtime (n=100): 0.061712, Iteration: 92\n"
     ]
    },
    {
     "name": "stderr",
     "output_type": "stream",
     "text": [
      "100%|██████████| 7012/7012 [00:00<00:00, 7545.44it/s]\n"
     ]
    },
    {
     "name": "stdout",
     "output_type": "stream",
     "text": [
      "Distribution shift: sudden\n",
      "SimpleOGD      : Cov: 0.899, Avg Width: 125.0, Avg Miscov: 0.041, Avg Regret: 0.0031, Avg. Runtime (n=100): 0.756847, Std. Runtime (n=100): 0.061385, Iteration: 93\n"
     ]
    },
    {
     "name": "stderr",
     "output_type": "stream",
     "text": [
      "100%|██████████| 7012/7012 [00:00<00:00, 9434.17it/s]\n"
     ]
    },
    {
     "name": "stdout",
     "output_type": "stream",
     "text": [
      "Distribution shift: sudden\n",
      "SimpleOGD      : Cov: 0.899, Avg Width: 125.0, Avg Miscov: 0.041, Avg Regret: 0.0031, Avg. Runtime (n=100): 0.758694, Std. Runtime (n=100): 0.063604, Iteration: 94\n"
     ]
    },
    {
     "name": "stderr",
     "output_type": "stream",
     "text": [
      "100%|██████████| 7012/7012 [00:00<00:00, 9525.78it/s]\n"
     ]
    },
    {
     "name": "stdout",
     "output_type": "stream",
     "text": [
      "Distribution shift: sudden\n",
      "SimpleOGD      : Cov: 0.899, Avg Width: 125.0, Avg Miscov: 0.041, Avg Regret: 0.0031, Avg. Runtime (n=100): 0.758547, Std. Runtime (n=100): 0.063285, Iteration: 95\n"
     ]
    },
    {
     "name": "stderr",
     "output_type": "stream",
     "text": [
      "100%|██████████| 7012/7012 [00:00<00:00, 9722.78it/s] \n"
     ]
    },
    {
     "name": "stdout",
     "output_type": "stream",
     "text": [
      "Distribution shift: sudden\n",
      "SimpleOGD      : Cov: 0.899, Avg Width: 125.0, Avg Miscov: 0.041, Avg Regret: 0.0031, Avg. Runtime (n=100): 0.758328, Std. Runtime (n=100): 0.062990, Iteration: 96\n"
     ]
    },
    {
     "name": "stderr",
     "output_type": "stream",
     "text": [
      "100%|██████████| 7012/7012 [00:00<00:00, 9636.16it/s]\n"
     ]
    },
    {
     "name": "stdout",
     "output_type": "stream",
     "text": [
      "Distribution shift: sudden\n",
      "SimpleOGD      : Cov: 0.899, Avg Width: 125.0, Avg Miscov: 0.041, Avg Regret: 0.0031, Avg. Runtime (n=100): 0.757956, Std. Runtime (n=100): 0.062771, Iteration: 97\n"
     ]
    },
    {
     "name": "stderr",
     "output_type": "stream",
     "text": [
      "100%|██████████| 7012/7012 [00:00<00:00, 9602.06it/s] \n"
     ]
    },
    {
     "name": "stdout",
     "output_type": "stream",
     "text": [
      "Distribution shift: sudden\n",
      "SimpleOGD      : Cov: 0.899, Avg Width: 125.0, Avg Miscov: 0.041, Avg Regret: 0.0031, Avg. Runtime (n=100): 0.757657, Std. Runtime (n=100): 0.062519, Iteration: 98\n"
     ]
    },
    {
     "name": "stderr",
     "output_type": "stream",
     "text": [
      "100%|██████████| 7012/7012 [00:00<00:00, 9673.41it/s]"
     ]
    },
    {
     "name": "stdout",
     "output_type": "stream",
     "text": [
      "Distribution shift: sudden\n",
      "SimpleOGD      : Cov: 0.899, Avg Width: 125.0, Avg Miscov: 0.041, Avg Regret: 0.0031, Avg. Runtime (n=100): 0.757389, Std. Runtime (n=100): 0.062259, Iteration: 99\n"
     ]
    },
    {
     "name": "stderr",
     "output_type": "stream",
     "text": [
      "\n"
     ]
    }
   ],
   "source": [
    "\n",
    "# Train the model, save its logits on all the corrupted test datasets, and do temperature scaling\n",
    "print(\"Train the model, save its logits on all the corrupted test datasets, and do temperature scaling\")\n",
    "args = parse_args()\n",
    "# if args.dataset != \"ImageNet\":\n",
    "if not finished(args) and args.dataset != \"ImageNet\":\n",
    "    print(\"Training models\")\n",
    "    train(args)\n",
    "    print(\"Finished training\")\n",
    "if args.local_rank in [-1, 0]:\n",
    "    print(\"Getting temp file...\")\n",
    "    temp_file = get_temp_file(args)\n",
    "    print(\"Done\")\n",
    "    if not finished(args):\n",
    "        print(\"get_logits(args)\")\n",
    "        get_logits(args)\n",
    "        print(\"...Done\")\n",
    "        temp = temperature_scaling(args)\n",
    "        with open(temp_file, \"w\") as f:\n",
    "            f.write(str(temp))\n",
    "\n",
    "    # Load the saved logits\n",
    "    print(\"Load the saved logits\")\n",
    "    with open(temp_file) as f:\n",
    "        temp = float(f.readline())\n",
    "    n_data = None\n",
    "    sev2results = defaultdict(list)\n",
    "    for corruption in corruptions:\n",
    "        severities = [0] if corruption is None else [1, 2, 3, 4, 5]\n",
    "        for severity in severities:\n",
    "            try:\n",
    "                logits, labels = torch.load(get_results_file(args, corruption, severity))\n",
    "            except:\n",
    "                continue\n",
    "            sev2results[severity].append(list(zip(F.softmax(logits / temp, dim=-1).numpy(), labels.numpy())))\n",
    "            n_data = len(labels) if n_data is None else min(n_data, len(labels))\n",
    "\n",
    "    # Initialize conformal prediction methods, along with accumulators for results\n",
    "    print(\"Initialize conformal prediction methods, along with accumulators for results\")\n",
    "    lmbda, k_reg, n_class = raps_params(args.dataset)\n",
    "    D_old = 1 + lmbda * np.sqrt(n_class - k_reg)\n",
    "    D = 1*D_old\n",
    "    #methods = [SplitConformal, NExConformal, FACI, ScaleFreeOGD, SimpleOGD, FACI_S, SAOCP, MagnitudeLearner, MagLearnUndiscounted]\n",
    "    methods = [SimpleOGD]\n",
    "    label2err = defaultdict(list)\n",
    "    h = 5 + 0.5 * (len(methods) > 5)\n",
    "    np.random.seed(0)\n",
    "    elasped_time = np.zeros(100,)\n",
    "    for jj in range(100):\n",
    "        for i_shift, shift in enumerate([\"sudden\"]):\n",
    "            sevs, s_opts, w_opts = [], [], []\n",
    "            # warmup, window, run_length = 1000, 100, 500 # original code\n",
    "            warmup, window, run_length = 1000, 25, 1000 # our code\n",
    "            state = np.random.RandomState(0)\n",
    "            order = state.permutation(n_data)[: 6 * run_length + window // 2 + warmup]\n",
    "            coverages, s_hats, widths = [{m.__name__: [] for m in methods} for _ in range(3)]\n",
    "            predictors = [m(None, None, max_scale = D, lifetime = 32, coverage = args.target_cov) for m in methods]\n",
    "            t_vec = np.zeros(len(order))\n",
    "\n",
    "            start_time = time.time()\n",
    "            for t, i in tqdm.tqdm(enumerate(order, start=-warmup), total=len(order)):\n",
    "                # Get saved results for the desired severity\n",
    "                sev = t_to_sev(t, window=window, schedule = shift)\n",
    "                probs, label = sev2results[sev][state.randint(0, len(sev2results[sev]))][i]\n",
    "\n",
    "                # Convert probability to APS score\n",
    "                i_sort = np.flip(np.argsort(probs))\n",
    "                p_sort_cumsum = np.cumsum(probs[i_sort]) - state.rand() * probs[i_sort]\n",
    "                s_sort_cumsum = p_sort_cumsum + lmbda * np.sqrt(np.cumsum([i > k_reg for i in range(n_class)]))\n",
    "                w_opt = np.argsort(i_sort)[label] + 1\n",
    "                s_opt = s_sort_cumsum[w_opt - 1]\n",
    "                if t >= 0:\n",
    "                    sevs.append(sev)\n",
    "                    s_opts.append(s_opt)\n",
    "                    w_opts.append(w_opt)\n",
    "                    t_vec[t] = t\n",
    "\n",
    "                # Update all the conformal predictors\n",
    "                for predictor in predictors:\n",
    "                    name = type(predictor).__name__\n",
    "                    if t >= 0:\n",
    "                        _, s_hat = predictor.predict(horizon=1)\n",
    "                        w = np.sum(s_sort_cumsum <= s_hat)\n",
    "                        s_hats[name].append(s_hat)\n",
    "                        widths[name].append(w)\n",
    "                        coverages[name].append(w >= w_opt)\n",
    "                    predictor.update(ground_truth=pd.Series([s_opt]), forecast=pd.Series([0]), horizon=1)\n",
    "            elasped_time[jj] = time.time() - start_time\n",
    "            # Perform evaluation & produce a pretty graph\n",
    "            plot_loss = False\n",
    "\n",
    "            s_opts = np.asarray(s_opts)\n",
    "            int_q = pd.Series(s_opts).rolling(window).quantile(args.target_cov).dropna()\n",
    "            print(f\"Distribution shift: {shift}\")\n",
    "            for i, m in enumerate(methods):\n",
    "            # Compute various summary statistics\n",
    "                name = m.__name__ # name of the method (OGD, SAOCP, etc.)\n",
    "                label = sub(\"Split\", \"S\", sub(\"Conformal\", \"CP\", sub(\"ScaleFree\", \"SF-\", sub(\"_\", \"-\", name))))\n",
    "                s_hat = np.asarray(s_hats[name])\n",
    "                int_cov = gaussian_filter1d(pd.Series(coverages[name]).rolling(window).mean().dropna(), sigma=3)\n",
    "                int_w = pd.Series(s_hats[name] if plot_loss else widths[name]).rolling(window).mean().dropna()\n",
    "                int_losses = pd.Series(pinball_loss(s_opts, s_hat, args.target_cov)).rolling(window).mean().dropna()\n",
    "                opts = [pinball_loss(s_opts[i : i + window], q, args.target_cov).mean() for i, q in enumerate(int_q)]\n",
    "                int_regret = int_losses.values - np.asarray(opts)\n",
    "                int_miscov = np.abs(args.target_cov - int_cov)\n",
    "\n",
    "                # Do the plotting\n",
    "                label2err[label].append(f\"{np.max(int_miscov):.2f}\")\n",
    "\n",
    "                print(\n",
    "                    f\"{name:15}: \"\n",
    "                    f\"Cov: {np.mean(coverages[name]):.3f}, \"\n",
    "                    f\"Avg Width: {np.mean(widths[name]):.1f}, \"\n",
    "                    f\"Avg Miscov: {np.mean(int_miscov):.3f}, \"\n",
    "                    f\"Avg Regret: {np.mean(int_regret):.4f}, \"\n",
    "                    f\"Avg. Runtime (n=100): {np.mean(elasped_time[0:jj]):.6f}, \"\n",
    "                    f\"Std. Runtime (n=100): {np.std(elasped_time[0:jj]):.6f}, \"\n",
    "                    f\"Iteration: {jj:.0f}\"\n",
    "                )"
   ]
  },
  {
   "cell_type": "markdown",
   "metadata": {},
   "source": []
  }
 ],
 "metadata": {
  "kernelspec": {
   "display_name": "env",
   "language": "python",
   "name": "python3"
  },
  "language_info": {
   "codemirror_mode": {
    "name": "ipython",
    "version": 3
   },
   "file_extension": ".py",
   "mimetype": "text/x-python",
   "name": "python",
   "nbconvert_exporter": "python",
   "pygments_lexer": "ipython3",
   "version": "3.11.3"
  }
 },
 "nbformat": 4,
 "nbformat_minor": 2
}
